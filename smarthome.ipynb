{
 "cells": [
  {
   "cell_type": "code",
   "execution_count": 1,
   "id": "31ae7ef3",
   "metadata": {
    "_cell_guid": "b1076dfc-b9ad-4769-8c92-a6c4dae69d19",
    "_uuid": "8f2839f25d086af736a60e9eeb907d3b93b6e0e5",
    "execution": {
     "iopub.execute_input": "2024-04-10T02:46:34.900157Z",
     "iopub.status.busy": "2024-04-10T02:46:34.899814Z",
     "iopub.status.idle": "2024-04-10T02:46:35.799631Z",
     "shell.execute_reply": "2024-04-10T02:46:35.798580Z"
    },
    "papermill": {
     "duration": 0.908817,
     "end_time": "2024-04-10T02:46:35.803317",
     "exception": false,
     "start_time": "2024-04-10T02:46:34.894500",
     "status": "completed"
    },
    "tags": []
   },
   "outputs": [
    {
     "name": "stdout",
     "output_type": "stream",
     "text": [
      "/kaggle/input/smarthomedata/smarthome.xlsx\n"
     ]
    }
   ],
   "source": [
    "# This Python 3 environment comes with many helpful analytics libraries installed\n",
    "# It is defined by the kaggle/python Docker image: https://github.com/kaggle/docker-python\n",
    "# For example, here's several helpful packages to load\n",
    "\n",
    "import numpy as np # linear algebra\n",
    "import pandas as pd # data processing, CSV file I/O (e.g. pd.read_csv)\n",
    "\n",
    "# Input data files are available in the read-only \"../input/\" directory\n",
    "# For example, running this (by clicking run or pressing Shift+Enter) will list all files under the input directory\n",
    "\n",
    "import os\n",
    "for dirname, _, filenames in os.walk('/kaggle/input'):\n",
    "    for filename in filenames:\n",
    "        print(os.path.join(dirname, filename))\n",
    "\n",
    "# You can write up to 20GB to the current directory (/kaggle/working/) that gets preserved as output when you create a version using \"Save & Run All\" \n",
    "# You can also write temporary files to /kaggle/temp/, but they won't be saved outside of the current session"
   ]
  },
  {
   "cell_type": "code",
   "execution_count": 2,
   "id": "55fac572",
   "metadata": {
    "execution": {
     "iopub.execute_input": "2024-04-10T02:46:35.812482Z",
     "iopub.status.busy": "2024-04-10T02:46:35.811999Z",
     "iopub.status.idle": "2024-04-10T02:47:01.354461Z",
     "shell.execute_reply": "2024-04-10T02:47:01.353669Z"
    },
    "papermill": {
     "duration": 25.549815,
     "end_time": "2024-04-10T02:47:01.356993",
     "exception": false,
     "start_time": "2024-04-10T02:46:35.807178",
     "status": "completed"
    },
    "tags": []
   },
   "outputs": [
    {
     "name": "stdout",
     "output_type": "stream",
     "text": [
      "               下单时间                   买家名称                         买家选择物流  \\\n",
      "0  2022-04-30 09:13  Antonietta Giovannini  Seller's Shipping Method - ES   \n",
      "1  2022-04-30 09:34            gioole user   Cainiao Super Economy Global   \n",
      "2  2022-04-30 10:26           zachi zaizev   AliExpress Standard Shipping   \n",
      "3  2022-04-30 10:46           Artem Lushov       Seller's Shipping Method   \n",
      "4  2022-04-30 13:41          Raymond Abell   AliExpress Standard Shipping   \n",
      "\n",
      "       产品总金额              付款时间              发货时间              发货期限  \\\n",
      "0  US $14.22  2022-04-30 09:13  2022-04-30 11:00  2022-05-10 09:13   \n",
      "1   US $4.86  2022-04-30 09:35  2022-05-02 23:43  2022-05-10 09:35   \n",
      "2  US $16.72  2022-04-30 10:27  2022-05-02 02:03  2022-05-10 10:27   \n",
      "3  US $12.36  2022-04-30 10:46  2022-05-04 21:08  2022-05-10 10:46   \n",
      "4  US $17.55  2022-04-30 13:41  2022-05-02 02:03  2022-05-10 13:41   \n",
      "\n",
      "                                                商品信息  \\\n",
      "0  【1】   Tuya Mini WiFi DIY Switch 16A 2 Way Cont...   \n",
      "1  【1】   RE5V1C 5V WiFi Smart Switch eWeLink Inch...   \n",
      "2  【1】   WiFi Temperature Humidity Sensor Indoor ...   \n",
      "3  【1】   Tuya Alice Wifi Smart Switch, 16A 2Way M...   \n",
      "4  【1】   Tuya Door Window Opening Sensor Detector...   \n",
      "\n",
      "                                                商品编码  \\\n",
      "0  ALMQIKBBSTjZ5N23N3D02899K3G_X0V18MJ0916-40Za3b...   \n",
      "1       ALHNYM6640PZWNQ2S6E054V8Z1QQO0LF2YSEFDYR * 1   \n",
      "2       ALXY4QIHKAbZGNL3Z4S3532126Z_Y0A1JMB0V1DY * 1   \n",
      "3       ALFRWIWJB8PZWNM26608G133X1TYQ4OW3CBNRLVG * 3   \n",
      "4       ALMYBTLA7QVZJNS395U429A704I_V0L10L8EK5OU * 3   \n",
      "\n",
      "                                     地址  ...      物流费用            确认收货时间 订单备注  \\\n",
      "0           Via C.Martignoni, 27 ALDENO  ...  US $0.00  2022-05-25 11:02  NaN   \n",
      "1                        Skouloudi M. 3  ...  US $0.00  2022-06-12 08:00  NaN   \n",
      "2                        HSEKMA 224 224  ...  US $0.00  2022-05-29 00:42  NaN   \n",
      "3  Noviy Gorodok (Новый Городок), 32 69  ...  US $0.00  2022-06-04 06:04  NaN   \n",
      "4                    Pittsburghstraat 9  ...  US $3.59  2022-05-16 13:07  NaN   \n",
      "\n",
      "   订单状态       订单金额   负责人（业务员）     预计增值税   联系电话               订单号       邮编  \n",
      "0  交易完成  US $11.66  null null  US $2.56   39.0  3016602292206320    38060  \n",
      "1  交易完成   US $3.88  null null  US $0.93   30.0  8149322817552550      NaN  \n",
      "2  交易完成  US $16.72  null null       NaN  972.0  8149727178429630  7311000  \n",
      "3  交易完成  US $12.24  null null       NaN    7.0  5027762282620590   143074  \n",
      "4  交易完成  US $17.47  null null  US $3.67   31.0  8149646547103460      NaN  \n",
      "\n",
      "[5 rows x 29 columns]\n"
     ]
    }
   ],
   "source": [
    "# 读取xlsx文件  \n",
    "data = pd.read_excel('/kaggle/input/smarthomedata/smarthome.xlsx')  \n",
    "  \n",
    "# 查看前几行数据  \n",
    "print(data.head())\n"
   ]
  },
  {
   "cell_type": "code",
   "execution_count": 3,
   "id": "b6a60d08",
   "metadata": {
    "execution": {
     "iopub.execute_input": "2024-04-10T02:47:01.366361Z",
     "iopub.status.busy": "2024-04-10T02:47:01.365283Z",
     "iopub.status.idle": "2024-04-10T02:47:01.371677Z",
     "shell.execute_reply": "2024-04-10T02:47:01.370989Z"
    },
    "papermill": {
     "duration": 0.012861,
     "end_time": "2024-04-10T02:47:01.373553",
     "exception": false,
     "start_time": "2024-04-10T02:47:01.360692",
     "status": "completed"
    },
    "tags": []
   },
   "outputs": [],
   "source": [
    "# 创建中文列名到英文列名的映射字典  \n",
    "chinese_to_english_columns = {  \n",
    "    '下单时间': 'Order_Time',  \n",
    "    '买家名称': 'Buyer_Name',  \n",
    "    '买家选择物流': 'Selected_Logistics',  \n",
    "   '产品总金额':'Total_Product_Amount',\n",
    "'付款时间':'Payment_Time',\n",
    "'发货时间':'Shipment_Time',\n",
    "'发货期限':'Shipment_Deadline',\n",
    "'商品信息':'Product_Information',\n",
    "'商品编码':'Product_Code',\n",
    "'地址':'Address',\n",
    "'城市':'City',\n",
    "'实际发货单号': 'Actual_Shipping_Number',\n",
    "'州/省':'State/Province',\n",
    "'平台是否代征代缴':'Platform_Tax_Collection',\n",
    "'店铺优惠':'Store_Discount',\n",
    "'手机':'Phone_Number',\n",
    "'收件人名称':'Recipient_Name',\n",
    "'收货国家':'Delivery_Country',\n",
    "'收货地址':'Delivery Address',\n",
    "'物流费用':'Shipping_Cost',\n",
    "'确认收货时间':'Confirmation Time',\n",
    "'订单备注':'Order_Notes',\n",
    "'订单状态':'Order_Status',\n",
    "'订单金额':'Order_Amount',\n",
    "'负责人（业务员）':'Responsible_Person',\n",
    "'预计增值税':'Estimated_VAT',\n",
    "'联系电话':'Contact_Number',\n",
    "'订单号':'Order_Number',\n",
    "'邮编':'Postal_Code', \n",
    "    '邮编': 'Postal_Code' , \n",
    "}  "
   ]
  },
  {
   "cell_type": "code",
   "execution_count": 4,
   "id": "92d0fcb3",
   "metadata": {
    "execution": {
     "iopub.execute_input": "2024-04-10T02:47:01.381782Z",
     "iopub.status.busy": "2024-04-10T02:47:01.381146Z",
     "iopub.status.idle": "2024-04-10T02:47:01.385574Z",
     "shell.execute_reply": "2024-04-10T02:47:01.384899Z"
    },
    "papermill": {
     "duration": 0.010346,
     "end_time": "2024-04-10T02:47:01.387383",
     "exception": false,
     "start_time": "2024-04-10T02:47:01.377037",
     "status": "completed"
    },
    "tags": []
   },
   "outputs": [],
   "source": [
    "# 使用映射字典重命名列名  \n",
    "data.rename(columns=chinese_to_english_columns, inplace=True)"
   ]
  },
  {
   "cell_type": "code",
   "execution_count": 5,
   "id": "e1303da0",
   "metadata": {
    "execution": {
     "iopub.execute_input": "2024-04-10T02:47:01.395028Z",
     "iopub.status.busy": "2024-04-10T02:47:01.394750Z",
     "iopub.status.idle": "2024-04-10T02:47:01.406457Z",
     "shell.execute_reply": "2024-04-10T02:47:01.405749Z"
    },
    "papermill": {
     "duration": 0.018139,
     "end_time": "2024-04-10T02:47:01.408849",
     "exception": false,
     "start_time": "2024-04-10T02:47:01.390710",
     "status": "completed"
    },
    "tags": []
   },
   "outputs": [
    {
     "name": "stdout",
     "output_type": "stream",
     "text": [
      "         Order_Time             Buyer_Name             Selected_Logistics  \\\n",
      "0  2022-04-30 09:13  Antonietta Giovannini  Seller's Shipping Method - ES   \n",
      "1  2022-04-30 09:34            gioole user   Cainiao Super Economy Global   \n",
      "2  2022-04-30 10:26           zachi zaizev   AliExpress Standard Shipping   \n",
      "3  2022-04-30 10:46           Artem Lushov       Seller's Shipping Method   \n",
      "4  2022-04-30 13:41          Raymond Abell   AliExpress Standard Shipping   \n",
      "\n",
      "  Total_Product_Amount      Payment_Time     Shipment_Time Shipment_Deadline  \\\n",
      "0            US $14.22  2022-04-30 09:13  2022-04-30 11:00  2022-05-10 09:13   \n",
      "1             US $4.86  2022-04-30 09:35  2022-05-02 23:43  2022-05-10 09:35   \n",
      "2            US $16.72  2022-04-30 10:27  2022-05-02 02:03  2022-05-10 10:27   \n",
      "3            US $12.36  2022-04-30 10:46  2022-05-04 21:08  2022-05-10 10:46   \n",
      "4            US $17.55  2022-04-30 13:41  2022-05-02 02:03  2022-05-10 13:41   \n",
      "\n",
      "                                 Product_Information  \\\n",
      "0  【1】   Tuya Mini WiFi DIY Switch 16A 2 Way Cont...   \n",
      "1  【1】   RE5V1C 5V WiFi Smart Switch eWeLink Inch...   \n",
      "2  【1】   WiFi Temperature Humidity Sensor Indoor ...   \n",
      "3  【1】   Tuya Alice Wifi Smart Switch, 16A 2Way M...   \n",
      "4  【1】   Tuya Door Window Opening Sensor Detector...   \n",
      "\n",
      "                                        Product_Code  \\\n",
      "0  ALMQIKBBSTjZ5N23N3D02899K3G_X0V18MJ0916-40Za3b...   \n",
      "1       ALHNYM6640PZWNQ2S6E054V8Z1QQO0LF2YSEFDYR * 1   \n",
      "2       ALXY4QIHKAbZGNL3Z4S3532126Z_Y0A1JMB0V1DY * 1   \n",
      "3       ALFRWIWJB8PZWNM26608G133X1TYQ4OW3CBNRLVG * 3   \n",
      "4       ALMYBTLA7QVZJNS395U429A704I_V0L10L8EK5OU * 3   \n",
      "\n",
      "                                Address  ... Shipping_Cost Confirmation Time  \\\n",
      "0           Via C.Martignoni, 27 ALDENO  ...      US $0.00  2022-05-25 11:02   \n",
      "1                        Skouloudi M. 3  ...      US $0.00  2022-06-12 08:00   \n",
      "2                        HSEKMA 224 224  ...      US $0.00  2022-05-29 00:42   \n",
      "3  Noviy Gorodok (Новый Городок), 32 69  ...      US $0.00  2022-06-04 06:04   \n",
      "4                    Pittsburghstraat 9  ...      US $3.59  2022-05-16 13:07   \n",
      "\n",
      "  Order_Notes Order_Status Order_Amount Responsible_Person Estimated_VAT  \\\n",
      "0         NaN         交易完成    US $11.66          null null      US $2.56   \n",
      "1         NaN         交易完成     US $3.88          null null      US $0.93   \n",
      "2         NaN         交易完成    US $16.72          null null           NaN   \n",
      "3         NaN         交易完成    US $12.24          null null           NaN   \n",
      "4         NaN         交易完成    US $17.47          null null      US $3.67   \n",
      "\n",
      "  Contact_Number      Order_Number Postal_Code  \n",
      "0           39.0  3016602292206320       38060  \n",
      "1           30.0  8149322817552550         NaN  \n",
      "2          972.0  8149727178429630     7311000  \n",
      "3            7.0  5027762282620590      143074  \n",
      "4           31.0  8149646547103460         NaN  \n",
      "\n",
      "[5 rows x 29 columns]\n"
     ]
    }
   ],
   "source": [
    "# 打印前几行以检查列名  \n",
    "print(data.head())"
   ]
  },
  {
   "cell_type": "code",
   "execution_count": 6,
   "id": "22f7c171",
   "metadata": {
    "execution": {
     "iopub.execute_input": "2024-04-10T02:47:01.418242Z",
     "iopub.status.busy": "2024-04-10T02:47:01.417488Z",
     "iopub.status.idle": "2024-04-10T02:47:01.523441Z",
     "shell.execute_reply": "2024-04-10T02:47:01.522312Z"
    },
    "papermill": {
     "duration": 0.113652,
     "end_time": "2024-04-10T02:47:01.525993",
     "exception": false,
     "start_time": "2024-04-10T02:47:01.412341",
     "status": "completed"
    },
    "tags": []
   },
   "outputs": [
    {
     "name": "stdout",
     "output_type": "stream",
     "text": [
      "       Order_Time  Buyer_Name  Selected_Logistics  Total_Product_Amount  \\\n",
      "0           False       False               False                 False   \n",
      "1           False       False               False                 False   \n",
      "2           False       False               False                 False   \n",
      "3           False       False               False                 False   \n",
      "4           False       False               False                 False   \n",
      "...           ...         ...                 ...                   ...   \n",
      "44568       False       False               False                 False   \n",
      "44569       False       False               False                 False   \n",
      "44570       False       False               False                 False   \n",
      "44571       False       False               False                 False   \n",
      "44572       False       False               False                 False   \n",
      "\n",
      "       Payment_Time  Shipment_Time  Shipment_Deadline  Product_Information  \\\n",
      "0             False          False              False                False   \n",
      "1             False          False              False                False   \n",
      "2             False          False              False                False   \n",
      "3             False          False              False                False   \n",
      "4             False          False              False                False   \n",
      "...             ...            ...                ...                  ...   \n",
      "44568         False          False              False                False   \n",
      "44569         False          False              False                False   \n",
      "44570         False          False              False                False   \n",
      "44571         False          False              False                False   \n",
      "44572         False          False              False                False   \n",
      "\n",
      "       Product_Code  Address  ...  Shipping_Cost  Confirmation Time  \\\n",
      "0             False    False  ...          False              False   \n",
      "1             False    False  ...          False              False   \n",
      "2             False    False  ...          False              False   \n",
      "3             False    False  ...          False              False   \n",
      "4             False    False  ...          False              False   \n",
      "...             ...      ...  ...            ...                ...   \n",
      "44568         False    False  ...          False               True   \n",
      "44569         False    False  ...          False               True   \n",
      "44570         False    False  ...          False               True   \n",
      "44571         False    False  ...          False               True   \n",
      "44572         False    False  ...          False               True   \n",
      "\n",
      "       Order_Notes  Order_Status  Order_Amount  Responsible_Person  \\\n",
      "0             True         False         False               False   \n",
      "1             True         False         False               False   \n",
      "2             True         False         False               False   \n",
      "3             True         False         False               False   \n",
      "4             True         False         False               False   \n",
      "...            ...           ...           ...                 ...   \n",
      "44568         True         False         False               False   \n",
      "44569         True         False         False               False   \n",
      "44570         True         False         False               False   \n",
      "44571         True         False         False               False   \n",
      "44572         True         False         False               False   \n",
      "\n",
      "       Estimated_VAT  Contact_Number  Order_Number  Postal_Code  \n",
      "0              False           False         False        False  \n",
      "1              False           False         False         True  \n",
      "2               True           False         False        False  \n",
      "3               True           False         False        False  \n",
      "4              False           False         False         True  \n",
      "...              ...             ...           ...          ...  \n",
      "44568          False           False         False        False  \n",
      "44569          False           False         False        False  \n",
      "44570          False           False         False        False  \n",
      "44571           True           False         False        False  \n",
      "44572          False           False         False        False  \n",
      "\n",
      "[44573 rows x 29 columns]\n"
     ]
    }
   ],
   "source": [
    "#查找缺少值\n",
    "missing_values = data.isnull() \n",
    "# 打印出哪些位置有缺失值  \n",
    "print(missing_values)"
   ]
  },
  {
   "cell_type": "code",
   "execution_count": 7,
   "id": "e879df41",
   "metadata": {
    "execution": {
     "iopub.execute_input": "2024-04-10T02:47:01.535695Z",
     "iopub.status.busy": "2024-04-10T02:47:01.535299Z",
     "iopub.status.idle": "2024-04-10T02:47:01.628803Z",
     "shell.execute_reply": "2024-04-10T02:47:01.627399Z"
    },
    "papermill": {
     "duration": 0.101109,
     "end_time": "2024-04-10T02:47:01.631165",
     "exception": false,
     "start_time": "2024-04-10T02:47:01.530056",
     "status": "completed"
    },
    "tags": []
   },
   "outputs": [
    {
     "name": "stdout",
     "output_type": "stream",
     "text": [
      "Order_Time                     0\n",
      "Buyer_Name                     2\n",
      "Selected_Logistics             0\n",
      "Total_Product_Amount           0\n",
      "Payment_Time                3113\n",
      "Shipment_Time               4087\n",
      "Shipment_Deadline              4\n",
      "Product_Information            0\n",
      "Product_Code                   1\n",
      "Address                        0\n",
      "City                           0\n",
      "Actual_Shipping_Number      4087\n",
      "State/Province                16\n",
      "Platform_Tax_Collection    23494\n",
      "Store_Discount                 0\n",
      "Phone_Number               18253\n",
      "Recipient_Name                 0\n",
      "Delivery_Country               0\n",
      "Delivery Address           17702\n",
      "Shipping_Cost                  0\n",
      "Confirmation Time           7404\n",
      "Order_Notes                44504\n",
      "Order_Status                   0\n",
      "Order_Amount                   0\n",
      "Responsible_Person             0\n",
      "Estimated_VAT              23494\n",
      "Contact_Number             17798\n",
      "Order_Number                   0\n",
      "Postal_Code                 3908\n",
      "dtype: int64\n"
     ]
    }
   ],
   "source": [
    "# 计算每一列中缺失值的数量  \n",
    "missing_counts = data.isnull().sum()  \n",
    "print(missing_counts)  \n"
   ]
  },
  {
   "cell_type": "code",
   "execution_count": 8,
   "id": "bd4c2830",
   "metadata": {
    "execution": {
     "iopub.execute_input": "2024-04-10T02:47:01.641404Z",
     "iopub.status.busy": "2024-04-10T02:47:01.641006Z",
     "iopub.status.idle": "2024-04-10T02:47:01.649361Z",
     "shell.execute_reply": "2024-04-10T02:47:01.647737Z"
    },
    "papermill": {
     "duration": 0.016149,
     "end_time": "2024-04-10T02:47:01.651720",
     "exception": false,
     "start_time": "2024-04-10T02:47:01.635571",
     "status": "completed"
    },
    "tags": []
   },
   "outputs": [
    {
     "data": {
      "text/plain": [
       "44573"
      ]
     },
     "execution_count": 8,
     "metadata": {},
     "output_type": "execute_result"
    }
   ],
   "source": [
    "data.shape[0]"
   ]
  },
  {
   "cell_type": "code",
   "execution_count": 9,
   "id": "180f993a",
   "metadata": {
    "execution": {
     "iopub.execute_input": "2024-04-10T02:47:01.662120Z",
     "iopub.status.busy": "2024-04-10T02:47:01.661399Z",
     "iopub.status.idle": "2024-04-10T02:47:01.767171Z",
     "shell.execute_reply": "2024-04-10T02:47:01.766122Z"
    },
    "papermill": {
     "duration": 0.113915,
     "end_time": "2024-04-10T02:47:01.769887",
     "exception": false,
     "start_time": "2024-04-10T02:47:01.655972",
     "status": "completed"
    },
    "tags": []
   },
   "outputs": [
    {
     "name": "stdout",
     "output_type": "stream",
     "text": [
      "Order_Time                 0.000000\n",
      "Buyer_Name                 0.000045\n",
      "Selected_Logistics         0.000000\n",
      "Total_Product_Amount       0.000000\n",
      "Payment_Time               0.069840\n",
      "Shipment_Time              0.091692\n",
      "Shipment_Deadline          0.000090\n",
      "Product_Information        0.000000\n",
      "Product_Code               0.000022\n",
      "Address                    0.000000\n",
      "City                       0.000000\n",
      "Actual_Shipping_Number     0.091692\n",
      "State/Province             0.000359\n",
      "Platform_Tax_Collection    0.527090\n",
      "Store_Discount             0.000000\n",
      "Phone_Number               0.409508\n",
      "Recipient_Name             0.000000\n",
      "Delivery_Country           0.000000\n",
      "Delivery Address           0.397146\n",
      "Shipping_Cost              0.000000\n",
      "Confirmation Time          0.166110\n",
      "Order_Notes                0.998452\n",
      "Order_Status               0.000000\n",
      "Order_Amount               0.000000\n",
      "Responsible_Person         0.000000\n",
      "Estimated_VAT              0.527090\n",
      "Contact_Number             0.399300\n",
      "Order_Number               0.000000\n",
      "Postal_Code                0.087676\n",
      "dtype: float64\n"
     ]
    }
   ],
   "source": [
    "#计算缺少值的比例\n",
    "# 首先计算每一列的缺失值数量   \n",
    "missing_counts = data.isnull().sum() \n",
    "# 然后计算总的行数  \n",
    "total_rows = data.shape[0]  \n",
    "# 计算缺失数据比例  \n",
    "missing_ratio = missing_counts / total_rows\n",
    "# 打印出每一列的缺失数据比例  \n",
    "print(missing_ratio)"
   ]
  },
  {
   "cell_type": "code",
   "execution_count": 10,
   "id": "1659a77a",
   "metadata": {
    "execution": {
     "iopub.execute_input": "2024-04-10T02:47:01.779717Z",
     "iopub.status.busy": "2024-04-10T02:47:01.778952Z",
     "iopub.status.idle": "2024-04-10T02:47:01.795131Z",
     "shell.execute_reply": "2024-04-10T02:47:01.793319Z"
    },
    "papermill": {
     "duration": 0.023246,
     "end_time": "2024-04-10T02:47:01.797266",
     "exception": false,
     "start_time": "2024-04-10T02:47:01.774020",
     "status": "completed"
    },
    "tags": []
   },
   "outputs": [
    {
     "name": "stdout",
     "output_type": "stream",
     "text": [
      "      Platform_Tax_Collection Phone_Number  \\\n",
      "0                        平台已税   3703645418   \n",
      "1                        平台已税   6942012430   \n",
      "2                         NaN    537269999   \n",
      "3                         NaN   9268130528   \n",
      "4                        平台已税    652624597   \n",
      "...                       ...          ...   \n",
      "44568                    平台已税   3493815552   \n",
      "44569                    平台已税    607637233   \n",
      "44570                    平台已税    616147339   \n",
      "44571                     NaN   5521001979   \n",
      "44572                    平台已税    917219611   \n",
      "\n",
      "                                        Delivery Address Confirmation Time  \\\n",
      "0      Via C.Martignoni, 27 ALDENO、Trento、Trentino-Al...  2022-05-25 11:02   \n",
      "1                       Skouloudi M. 3、Gazi、Crete、Greece  2022-06-12 08:00   \n",
      "2                   HSEKMA 224 224、GINATON、ISRAEL、Israel  2022-05-29 00:42   \n",
      "3      Noviy Gorodok (Новый Городок), 32 69、Odincovo ...  2022-06-04 06:04   \n",
      "4      Pittsburghstraat 9、Rotterdam、Zuid Holland、Neth...  2022-05-16 13:07   \n",
      "...                                                  ...               ...   \n",
      "44568  via E. Perrone, 1 STERNATIA c/o Punto e Virgol...               NaN   \n",
      "44569        32 rue Lamartine、Versailles、Yvelines、France               NaN   \n",
      "44570  Calle del Monasterio de El Paular 124、Madrid、M...               NaN   \n",
      "44571  Luisa 82 302、Benito Juarez、Ciudad de Mexico、Me...               NaN   \n",
      "44572  Pretoki 11c、Sveti Ivan Zelina、Croatia、Croatia ...               NaN   \n",
      "\n",
      "      Order_Notes Estimated_VAT  Contact_Number  \n",
      "0             NaN      US $2.56            39.0  \n",
      "1             NaN      US $0.93            30.0  \n",
      "2             NaN           NaN           972.0  \n",
      "3             NaN           NaN             7.0  \n",
      "4             NaN      US $3.67            31.0  \n",
      "...           ...           ...             ...  \n",
      "44568         NaN      US $4.19            39.0  \n",
      "44569         NaN      US $8.26            33.0  \n",
      "44570         NaN      US $4.08            34.0  \n",
      "44571         NaN           NaN            52.0  \n",
      "44572         NaN      US $5.78           385.0  \n",
      "\n",
      "[44573 rows x 7 columns]\n"
     ]
    }
   ],
   "source": [
    "# 创建一个布尔序列，标记缺失值比例低于10%的列\n",
    "columns_to_drop = missing_ratio < 0.10 \n",
    "# 删除缺失值比例低于10%的行\n",
    "df_dropped = data.drop(columns_to_drop[columns_to_drop].index, axis=1)   \n",
    "  \n",
    "# 输出处理后的DataFrame  \n",
    "print(df_dropped)"
   ]
  }
 ],
 "metadata": {
  "kaggle": {
   "accelerator": "none",
   "dataSources": [
    {
     "datasetId": 4767233,
     "sourceId": 8077679,
     "sourceType": "datasetVersion"
    }
   ],
   "dockerImageVersionId": 30684,
   "isGpuEnabled": false,
   "isInternetEnabled": true,
   "language": "python",
   "sourceType": "notebook"
  },
  "kernelspec": {
   "display_name": "Python 3",
   "language": "python",
   "name": "python3"
  },
  "language_info": {
   "codemirror_mode": {
    "name": "ipython",
    "version": 3
   },
   "file_extension": ".py",
   "mimetype": "text/x-python",
   "name": "python",
   "nbconvert_exporter": "python",
   "pygments_lexer": "ipython3",
   "version": "3.10.13"
  },
  "papermill": {
   "default_parameters": {},
   "duration": 30.116058,
   "end_time": "2024-04-10T02:47:02.321048",
   "environment_variables": {},
   "exception": null,
   "input_path": "__notebook__.ipynb",
   "output_path": "__notebook__.ipynb",
   "parameters": {},
   "start_time": "2024-04-10T02:46:32.204990",
   "version": "2.5.0"
  }
 },
 "nbformat": 4,
 "nbformat_minor": 5
}
