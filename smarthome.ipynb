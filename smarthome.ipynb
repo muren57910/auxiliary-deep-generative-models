{
 "cells": [
  {
   "cell_type": "code",
   "execution_count": 1,
   "id": "c285f22f",
   "metadata": {
    "_cell_guid": "b1076dfc-b9ad-4769-8c92-a6c4dae69d19",
    "_uuid": "8f2839f25d086af736a60e9eeb907d3b93b6e0e5",
    "execution": {
     "iopub.execute_input": "2024-04-10T01:32:59.400530Z",
     "iopub.status.busy": "2024-04-10T01:32:59.399713Z",
     "iopub.status.idle": "2024-04-10T01:33:00.315863Z",
     "shell.execute_reply": "2024-04-10T01:33:00.313382Z"
    },
    "papermill": {
     "duration": 0.92467,
     "end_time": "2024-04-10T01:33:00.319340",
     "exception": false,
     "start_time": "2024-04-10T01:32:59.394670",
     "status": "completed"
    },
    "tags": []
   },
   "outputs": [
    {
     "name": "stdout",
     "output_type": "stream",
     "text": [
      "/kaggle/input/smarthomedata/smarthome.xlsx\n"
     ]
    }
   ],
   "source": [
    "# This Python 3 environment comes with many helpful analytics libraries installed\n",
    "# It is defined by the kaggle/python Docker image: https://github.com/kaggle/docker-python\n",
    "# For example, here's several helpful packages to load\n",
    "\n",
    "import numpy as np # linear algebra\n",
    "import pandas as pd # data processing, CSV file I/O (e.g. pd.read_csv)\n",
    "\n",
    "# Input data files are available in the read-only \"../input/\" directory\n",
    "# For example, running this (by clicking run or pressing Shift+Enter) will list all files under the input directory\n",
    "\n",
    "import os\n",
    "for dirname, _, filenames in os.walk('/kaggle/input'):\n",
    "    for filename in filenames:\n",
    "        print(os.path.join(dirname, filename))\n",
    "\n",
    "# You can write up to 20GB to the current directory (/kaggle/working/) that gets preserved as output when you create a version using \"Save & Run All\" \n",
    "# You can also write temporary files to /kaggle/temp/, but they won't be saved outside of the current session"
   ]
  },
  {
   "cell_type": "code",
   "execution_count": 2,
   "id": "9e0383a8",
   "metadata": {
    "execution": {
     "iopub.execute_input": "2024-04-10T01:33:00.326926Z",
     "iopub.status.busy": "2024-04-10T01:33:00.325572Z",
     "iopub.status.idle": "2024-04-10T01:33:25.203450Z",
     "shell.execute_reply": "2024-04-10T01:33:25.202352Z"
    },
    "papermill": {
     "duration": 24.883823,
     "end_time": "2024-04-10T01:33:25.205860",
     "exception": false,
     "start_time": "2024-04-10T01:33:00.322037",
     "status": "completed"
    },
    "tags": []
   },
   "outputs": [
    {
     "name": "stdout",
     "output_type": "stream",
     "text": [
      "               下单时间                   买家名称                         买家选择物流  \\\n",
      "0  2022-04-30 09:13  Antonietta Giovannini  Seller's Shipping Method - ES   \n",
      "1  2022-04-30 09:34            gioole user   Cainiao Super Economy Global   \n",
      "2  2022-04-30 10:26           zachi zaizev   AliExpress Standard Shipping   \n",
      "3  2022-04-30 10:46           Artem Lushov       Seller's Shipping Method   \n",
      "4  2022-04-30 13:41          Raymond Abell   AliExpress Standard Shipping   \n",
      "\n",
      "       产品总金额              付款时间              发货时间              发货期限  \\\n",
      "0  US $14.22  2022-04-30 09:13  2022-04-30 11:00  2022-05-10 09:13   \n",
      "1   US $4.86  2022-04-30 09:35  2022-05-02 23:43  2022-05-10 09:35   \n",
      "2  US $16.72  2022-04-30 10:27  2022-05-02 02:03  2022-05-10 10:27   \n",
      "3  US $12.36  2022-04-30 10:46  2022-05-04 21:08  2022-05-10 10:46   \n",
      "4  US $17.55  2022-04-30 13:41  2022-05-02 02:03  2022-05-10 13:41   \n",
      "\n",
      "                                                商品信息  \\\n",
      "0  【1】   Tuya Mini WiFi DIY Switch 16A 2 Way Cont...   \n",
      "1  【1】   RE5V1C 5V WiFi Smart Switch eWeLink Inch...   \n",
      "2  【1】   WiFi Temperature Humidity Sensor Indoor ...   \n",
      "3  【1】   Tuya Alice Wifi Smart Switch, 16A 2Way M...   \n",
      "4  【1】   Tuya Door Window Opening Sensor Detector...   \n",
      "\n",
      "                                                商品编码  \\\n",
      "0  ALMQIKBBSTjZ5N23N3D02899K3G_X0V18MJ0916-40Za3b...   \n",
      "1       ALHNYM6640PZWNQ2S6E054V8Z1QQO0LF2YSEFDYR * 1   \n",
      "2       ALXY4QIHKAbZGNL3Z4S3532126Z_Y0A1JMB0V1DY * 1   \n",
      "3       ALFRWIWJB8PZWNM26608G133X1TYQ4OW3CBNRLVG * 3   \n",
      "4       ALMYBTLA7QVZJNS395U429A704I_V0L10L8EK5OU * 3   \n",
      "\n",
      "                                     地址  ...      物流费用            确认收货时间 订单备注  \\\n",
      "0           Via C.Martignoni, 27 ALDENO  ...  US $0.00  2022-05-25 11:02  NaN   \n",
      "1                        Skouloudi M. 3  ...  US $0.00  2022-06-12 08:00  NaN   \n",
      "2                        HSEKMA 224 224  ...  US $0.00  2022-05-29 00:42  NaN   \n",
      "3  Noviy Gorodok (Новый Городок), 32 69  ...  US $0.00  2022-06-04 06:04  NaN   \n",
      "4                    Pittsburghstraat 9  ...  US $3.59  2022-05-16 13:07  NaN   \n",
      "\n",
      "   订单状态       订单金额   负责人（业务员）     预计增值税   联系电话               订单号       邮编  \n",
      "0  交易完成  US $11.66  null null  US $2.56   39.0  3016602292206320    38060  \n",
      "1  交易完成   US $3.88  null null  US $0.93   30.0  8149322817552550      NaN  \n",
      "2  交易完成  US $16.72  null null       NaN  972.0  8149727178429630  7311000  \n",
      "3  交易完成  US $12.24  null null       NaN    7.0  5027762282620590   143074  \n",
      "4  交易完成  US $17.47  null null  US $3.67   31.0  8149646547103460      NaN  \n",
      "\n",
      "[5 rows x 29 columns]\n"
     ]
    }
   ],
   "source": [
    "# 读取xlsx文件  \n",
    "data = pd.read_excel('/kaggle/input/smarthomedata/smarthome.xlsx')  \n",
    "  \n",
    "# 查看前几行数据  \n",
    "print(data.head())\n"
   ]
  },
  {
   "cell_type": "code",
   "execution_count": 3,
   "id": "efc1cea8",
   "metadata": {
    "execution": {
     "iopub.execute_input": "2024-04-10T01:33:25.212509Z",
     "iopub.status.busy": "2024-04-10T01:33:25.211716Z",
     "iopub.status.idle": "2024-04-10T01:33:25.218587Z",
     "shell.execute_reply": "2024-04-10T01:33:25.217623Z"
    },
    "papermill": {
     "duration": 0.012664,
     "end_time": "2024-04-10T01:33:25.220984",
     "exception": false,
     "start_time": "2024-04-10T01:33:25.208320",
     "status": "completed"
    },
    "tags": []
   },
   "outputs": [],
   "source": [
    "# 创建中文列名到英文列名的映射字典  \n",
    "chinese_to_english_columns = {  \n",
    "    '下单时间': 'Order_Time',  \n",
    "    '买家名称': 'Buyer_Name',  \n",
    "    '买家选择物流': 'Selected_Logistics',  \n",
    "   '产品总金额':'Total_Product_Amount',\n",
    "'付款时间':'Payment_Time',\n",
    "'发货时间':'Shipment_Time',\n",
    "'发货期限':'Shipment_Deadline',\n",
    "'商品信息':'Product_Information',\n",
    "'商品编码':'Product_Code',\n",
    "'地址':'Address',\n",
    "'城市':'City',\n",
    "'实际发货单号': 'Actual_Shipping_Number',\n",
    "'州/省':'State/Province',\n",
    "'平台是否代征代缴':'Platform_Tax_Collection',\n",
    "'店铺优惠':'Store_Discount',\n",
    "'手机':'Phone_Number',\n",
    "'收件人名称':'Recipient_Name',\n",
    "'收货国家':'Delivery_Country',\n",
    "'收货地址':'Delivery Address',\n",
    "'物流费用':'Shipping_Cost',\n",
    "'确认收货时间':'Confirmation Time',\n",
    "'订单备注':'Order_Notes',\n",
    "'订单状态':'Order_Status',\n",
    "'订单金额':'Order_Amount',\n",
    "'负责人（业务员）':'Responsible_Person',\n",
    "'预计增值税':'Estimated_VAT',\n",
    "'联系电话':'Contact_Number',\n",
    "'订单号':'Order_Number',\n",
    "'邮编':'Postal_Code', \n",
    "    '邮编': 'Postal_Code' , \n",
    "}  "
   ]
  },
  {
   "cell_type": "code",
   "execution_count": 4,
   "id": "f515c845",
   "metadata": {
    "execution": {
     "iopub.execute_input": "2024-04-10T01:33:25.227469Z",
     "iopub.status.busy": "2024-04-10T01:33:25.226749Z",
     "iopub.status.idle": "2024-04-10T01:33:25.231717Z",
     "shell.execute_reply": "2024-04-10T01:33:25.230691Z"
    },
    "papermill": {
     "duration": 0.010294,
     "end_time": "2024-04-10T01:33:25.233731",
     "exception": false,
     "start_time": "2024-04-10T01:33:25.223437",
     "status": "completed"
    },
    "tags": []
   },
   "outputs": [],
   "source": [
    "# 使用映射字典重命名列名  \n",
    "data.rename(columns=chinese_to_english_columns, inplace=True)"
   ]
  },
  {
   "cell_type": "code",
   "execution_count": 5,
   "id": "69527e75",
   "metadata": {
    "execution": {
     "iopub.execute_input": "2024-04-10T01:33:25.239787Z",
     "iopub.status.busy": "2024-04-10T01:33:25.239480Z",
     "iopub.status.idle": "2024-04-10T01:33:25.252875Z",
     "shell.execute_reply": "2024-04-10T01:33:25.251812Z"
    },
    "papermill": {
     "duration": 0.019408,
     "end_time": "2024-04-10T01:33:25.255544",
     "exception": false,
     "start_time": "2024-04-10T01:33:25.236136",
     "status": "completed"
    },
    "tags": []
   },
   "outputs": [
    {
     "name": "stdout",
     "output_type": "stream",
     "text": [
      "         Order_Time             Buyer_Name             Selected_Logistics  \\\n",
      "0  2022-04-30 09:13  Antonietta Giovannini  Seller's Shipping Method - ES   \n",
      "1  2022-04-30 09:34            gioole user   Cainiao Super Economy Global   \n",
      "2  2022-04-30 10:26           zachi zaizev   AliExpress Standard Shipping   \n",
      "3  2022-04-30 10:46           Artem Lushov       Seller's Shipping Method   \n",
      "4  2022-04-30 13:41          Raymond Abell   AliExpress Standard Shipping   \n",
      "\n",
      "  Total_Product_Amount      Payment_Time     Shipment_Time Shipment_Deadline  \\\n",
      "0            US $14.22  2022-04-30 09:13  2022-04-30 11:00  2022-05-10 09:13   \n",
      "1             US $4.86  2022-04-30 09:35  2022-05-02 23:43  2022-05-10 09:35   \n",
      "2            US $16.72  2022-04-30 10:27  2022-05-02 02:03  2022-05-10 10:27   \n",
      "3            US $12.36  2022-04-30 10:46  2022-05-04 21:08  2022-05-10 10:46   \n",
      "4            US $17.55  2022-04-30 13:41  2022-05-02 02:03  2022-05-10 13:41   \n",
      "\n",
      "                                 Product_Information  \\\n",
      "0  【1】   Tuya Mini WiFi DIY Switch 16A 2 Way Cont...   \n",
      "1  【1】   RE5V1C 5V WiFi Smart Switch eWeLink Inch...   \n",
      "2  【1】   WiFi Temperature Humidity Sensor Indoor ...   \n",
      "3  【1】   Tuya Alice Wifi Smart Switch, 16A 2Way M...   \n",
      "4  【1】   Tuya Door Window Opening Sensor Detector...   \n",
      "\n",
      "                                        Product_Code  \\\n",
      "0  ALMQIKBBSTjZ5N23N3D02899K3G_X0V18MJ0916-40Za3b...   \n",
      "1       ALHNYM6640PZWNQ2S6E054V8Z1QQO0LF2YSEFDYR * 1   \n",
      "2       ALXY4QIHKAbZGNL3Z4S3532126Z_Y0A1JMB0V1DY * 1   \n",
      "3       ALFRWIWJB8PZWNM26608G133X1TYQ4OW3CBNRLVG * 3   \n",
      "4       ALMYBTLA7QVZJNS395U429A704I_V0L10L8EK5OU * 3   \n",
      "\n",
      "                                Address  ... Shipping_Cost Confirmation Time  \\\n",
      "0           Via C.Martignoni, 27 ALDENO  ...      US $0.00  2022-05-25 11:02   \n",
      "1                        Skouloudi M. 3  ...      US $0.00  2022-06-12 08:00   \n",
      "2                        HSEKMA 224 224  ...      US $0.00  2022-05-29 00:42   \n",
      "3  Noviy Gorodok (Новый Городок), 32 69  ...      US $0.00  2022-06-04 06:04   \n",
      "4                    Pittsburghstraat 9  ...      US $3.59  2022-05-16 13:07   \n",
      "\n",
      "  Order_Notes Order_Status Order_Amount Responsible_Person Estimated_VAT  \\\n",
      "0         NaN         交易完成    US $11.66          null null      US $2.56   \n",
      "1         NaN         交易完成     US $3.88          null null      US $0.93   \n",
      "2         NaN         交易完成    US $16.72          null null           NaN   \n",
      "3         NaN         交易完成    US $12.24          null null           NaN   \n",
      "4         NaN         交易完成    US $17.47          null null      US $3.67   \n",
      "\n",
      "  Contact_Number      Order_Number Postal_Code  \n",
      "0           39.0  3016602292206320       38060  \n",
      "1           30.0  8149322817552550         NaN  \n",
      "2          972.0  8149727178429630     7311000  \n",
      "3            7.0  5027762282620590      143074  \n",
      "4           31.0  8149646547103460         NaN  \n",
      "\n",
      "[5 rows x 29 columns]\n"
     ]
    }
   ],
   "source": [
    "# 打印前几行以检查列名  \n",
    "print(data.head())"
   ]
  }
 ],
 "metadata": {
  "kaggle": {
   "accelerator": "none",
   "dataSources": [
    {
     "datasetId": 4767233,
     "sourceId": 8077679,
     "sourceType": "datasetVersion"
    }
   ],
   "dockerImageVersionId": 30684,
   "isGpuEnabled": false,
   "isInternetEnabled": true,
   "language": "python",
   "sourceType": "notebook"
  },
  "kernelspec": {
   "display_name": "Python 3",
   "language": "python",
   "name": "python3"
  },
  "language_info": {
   "codemirror_mode": {
    "name": "ipython",
    "version": 3
   },
   "file_extension": ".py",
   "mimetype": "text/x-python",
   "name": "python",
   "nbconvert_exporter": "python",
   "pygments_lexer": "ipython3",
   "version": "3.10.13"
  },
  "papermill": {
   "default_parameters": {},
   "duration": 29.062915,
   "end_time": "2024-04-10T01:33:25.778005",
   "environment_variables": {},
   "exception": null,
   "input_path": "__notebook__.ipynb",
   "output_path": "__notebook__.ipynb",
   "parameters": {},
   "start_time": "2024-04-10T01:32:56.715090",
   "version": "2.5.0"
  }
 },
 "nbformat": 4,
 "nbformat_minor": 5
}
