{
 "cells": [
  {
   "cell_type": "code",
   "execution_count": 1,
   "id": "dcc341cf",
   "metadata": {
    "_cell_guid": "b1076dfc-b9ad-4769-8c92-a6c4dae69d19",
    "_uuid": "8f2839f25d086af736a60e9eeb907d3b93b6e0e5",
    "execution": {
     "iopub.execute_input": "2024-04-12T01:24:37.483757Z",
     "iopub.status.busy": "2024-04-12T01:24:37.483270Z",
     "iopub.status.idle": "2024-04-12T01:24:38.501320Z",
     "shell.execute_reply": "2024-04-12T01:24:38.499574Z"
    },
    "papermill": {
     "duration": 1.028433,
     "end_time": "2024-04-12T01:24:38.504455",
     "exception": false,
     "start_time": "2024-04-12T01:24:37.476022",
     "status": "completed"
    },
    "tags": []
   },
   "outputs": [
    {
     "name": "stdout",
     "output_type": "stream",
     "text": [
      "/kaggle/input/smarthomedata/smarthome.xlsx\n"
     ]
    }
   ],
   "source": [
    "# This Python 3 environment comes with many helpful analytics libraries installed\n",
    "# It is defined by the kaggle/python Docker image: https://github.com/kaggle/docker-python\n",
    "# For example, here's several helpful packages to load\n",
    "\n",
    "import numpy as np # linear algebra\n",
    "import pandas as pd # data processing, CSV file I/O (e.g. pd.read_csv)\n",
    "\n",
    "# Input data files are available in the read-only \"../input/\" directory\n",
    "# For example, running this (by clicking run or pressing Shift+Enter) will list all files under the input directory\n",
    "\n",
    "import os\n",
    "for dirname, _, filenames in os.walk('/kaggle/input'):\n",
    "    for filename in filenames:\n",
    "        print(os.path.join(dirname, filename))\n",
    "\n",
    "# You can write up to 20GB to the current directory (/kaggle/working/) that gets preserved as output when you create a version using \"Save & Run All\" \n",
    "# You can also write temporary files to /kaggle/temp/, but they won't be saved outside of the current session"
   ]
  },
  {
   "cell_type": "markdown",
   "id": "272617c1",
   "metadata": {
    "papermill": {
     "duration": 0.004561,
     "end_time": "2024-04-12T01:24:38.514358",
     "exception": false,
     "start_time": "2024-04-12T01:24:38.509797",
     "status": "completed"
    },
    "tags": []
   },
   "source": [
    "智能家居品类精品店铺运营提升分析与营销实践\n",
    "精品类运营模式通常指的是一种专注于高品质、独特性、以及提供卓越客户体验的商业运营方式。这种模式在多个方面与传统的量产和大众市场运营模式有\n",
    "所不同:√ 高品质和独特性:精品类运营模式强调产品的高品质和独特性。这些产品通常具有优越的设计、材料、工艺或者是独特的品牌故事。它们可能是手工制作的，或者在生产过程中注重细节和个性化。\n",
    "√目标客户群体:精品运营模式通常针对的是对品质、设计和独特性有更高要求的细分市场。这类消费者更注重产品的独特性和个性化，而不是仅仅追求功能性或成本效益。\n",
    "√客户体验:精品类运营模式非常重视客户体验。这包括提供高水平的客户服务、创造独特的购物体验、以及建立个性化的客户关系。\n",
    "√ 定价策略:由于精品类产品强调品质和独特性，其定价策略通常是高端定价，以反映其独特价值和品牌定位。\n",
    "√ 营销和品牌传播:在精品类运营模式中，营销和品牌传播通常采用更为精细化和定制化的策略。品牌故事、品质保证和独特的设计理念是营销传播的重要组成部分。\n",
    "√ 销售渠道:精品类产品可能通过专门的精品店、高端零售商、或者专属的在线平台销售，以确保品牌形象和客户体验的一致性。\n",
    "随着物联网、人工智能、和无线通信技术的发展，智能家居设备变得更加高效、可靠和易于使用。智能家居产品如智能灯光、智能安全系统、智能恒温器等,为用户提供了极大的便利，改善了日常生活的质量。此外，智能家居产品能够有效地节省能源，如通过智能恒温器节省暖气和空调的能耗。随着全球环保意识的提升,越来越多的消费者倾向于选择能够帮助他们减少能耗和碳排放的智能家居产品。\n",
    "与此同时，智能家居类产品被定位为高端市场，针对的是追求高品质生活的消费者群体，这自然导致了较高的客单价。而高客单价往往意味着高利润，因此智能家居品类无疑也是跨境电商企业采用“精品类运营”模式的较好选择。\n",
    "二、数据集介绍\n",
    "本题提供的数据是 AliExpress 全球速卖通平台上某一真实智能家居品类店铺1年内的实际订单数据，数据已经过脱敏处理，时间为2022年5月-2023 年4月，详细见附件。\n",
    "三、任务1:行业背景调研\n",
    "本任务为开放式，可参考以下分析方向:\n",
    "智能家居行业背景分析:①市场规模分析、②行业渗透率、③行业融资等。\n",
    "跨境电商智能家居类品类调研:①不同平台女装品类相关分析(销售情况、发展趋势、消费者偏好等)、②消费者国别分布分析、③热销属性分析等。\n",
    "请在报告中给出数据采集出处、处理过程、必要结果及相关分析\n",
    "四、任务 2:数据预处理\n",
    "可参考以下步骤:\n",
    "数据排序、数据计算、数据清洗、数据转化、特征编码等请在报告中给出处理过程、必要结果及相关分析。\n",
    "五、任务 3:店铺运营情况分析\n",
    "通过分析运营数据，企业能更好地理解目标市场的特征和需求，从而使其产品和服务更准确地对准目标客户群。可参考以下分析方向:\n",
    "铺货店铺的淡旺季分析\n",
    "季节性产品分析、大促产品分析(哪些产品在特定的节日或者季节热销)\n",
    "消费者国别分析\n",
    "热销属性分析(热销颜色、尺寸等)\n",
    "复购率分析\n",
    "销售趋势预测\n",
    "六、任务 4:精品店铺运营提升分析\n",
    "根据店铺数据给出精品店铺运营提升的方向，可参考如下分析方向:滞销产品的处理(优化或移除)\n",
    "备货建议\n",
    "直通车或营销活动建议\n",
    "供应商选择(www.1688.com)\n",
    "价格优化\n",
    "另外，店铺运营提升的不止局限于附件中的数据，选手们可根据跨境电商市场现实情况以及对店铺定位的理解进行选品分析，旨在提升该智能家居品类速卖通店铺的综合竞争力。\n",
    "请在报告中给出必要结果及相关分析。\n",
    "七、任务 5:数字营销实践活动\n",
    "本模块为开放式，请根据上述分析结果进行数字营销实践活动，包括站内营销、基于关键词的营销、内容营销。站内营销是基于跨境电商企业真正运营的第三方电商平台开展站内营销活动;基于关键词的营销是通过数据分析得到候选关键词，再利用这些关键词设计和优化搜索引擎或社交媒体的关键词广告的方案;内容营销是在数据分析的基础之上进行图文营销、短视频营销、中视频营销。\n",
    "说明:①参赛团队至少完成一种以上的数字营销实践活动。②输出形式不限，如营销方案、海报图文、短(中)视频脚本、短(中)视频链接或二维码等\n",
    "八、任务6:可视化展示及总结\n",
    "对上述分析结果进行进一步的整理，输出可视化的大屏，形成报告总结。"
   ]
  },
  {
   "cell_type": "code",
   "execution_count": 2,
   "id": "38fb2060",
   "metadata": {
    "execution": {
     "iopub.execute_input": "2024-04-12T01:24:38.526529Z",
     "iopub.status.busy": "2024-04-12T01:24:38.525881Z",
     "iopub.status.idle": "2024-04-12T01:25:17.658492Z",
     "shell.execute_reply": "2024-04-12T01:25:17.656843Z"
    },
    "papermill": {
     "duration": 39.147059,
     "end_time": "2024-04-12T01:25:17.666247",
     "exception": false,
     "start_time": "2024-04-12T01:24:38.519188",
     "status": "completed"
    },
    "tags": []
   },
   "outputs": [
    {
     "name": "stdout",
     "output_type": "stream",
     "text": [
      "               下单时间                   买家名称                         买家选择物流  \\\n",
      "0  2022-04-30 09:13  Antonietta Giovannini  Seller's Shipping Method - ES   \n",
      "1  2022-04-30 09:34            gioole user   Cainiao Super Economy Global   \n",
      "2  2022-04-30 10:26           zachi zaizev   AliExpress Standard Shipping   \n",
      "3  2022-04-30 10:46           Artem Lushov       Seller's Shipping Method   \n",
      "4  2022-04-30 13:41          Raymond Abell   AliExpress Standard Shipping   \n",
      "\n",
      "       产品总金额              付款时间              发货时间              发货期限  \\\n",
      "0  US $14.22  2022-04-30 09:13  2022-04-30 11:00  2022-05-10 09:13   \n",
      "1   US $4.86  2022-04-30 09:35  2022-05-02 23:43  2022-05-10 09:35   \n",
      "2  US $16.72  2022-04-30 10:27  2022-05-02 02:03  2022-05-10 10:27   \n",
      "3  US $12.36  2022-04-30 10:46  2022-05-04 21:08  2022-05-10 10:46   \n",
      "4  US $17.55  2022-04-30 13:41  2022-05-02 02:03  2022-05-10 13:41   \n",
      "\n",
      "                                                商品信息  \\\n",
      "0  【1】   Tuya Mini WiFi DIY Switch 16A 2 Way Cont...   \n",
      "1  【1】   RE5V1C 5V WiFi Smart Switch eWeLink Inch...   \n",
      "2  【1】   WiFi Temperature Humidity Sensor Indoor ...   \n",
      "3  【1】   Tuya Alice Wifi Smart Switch, 16A 2Way M...   \n",
      "4  【1】   Tuya Door Window Opening Sensor Detector...   \n",
      "\n",
      "                                                商品编码  \\\n",
      "0  ALMQIKBBSTjZ5N23N3D02899K3G_X0V18MJ0916-40Za3b...   \n",
      "1       ALHNYM6640PZWNQ2S6E054V8Z1QQO0LF2YSEFDYR * 1   \n",
      "2       ALXY4QIHKAbZGNL3Z4S3532126Z_Y0A1JMB0V1DY * 1   \n",
      "3       ALFRWIWJB8PZWNM26608G133X1TYQ4OW3CBNRLVG * 3   \n",
      "4       ALMYBTLA7QVZJNS395U429A704I_V0L10L8EK5OU * 3   \n",
      "\n",
      "                                     地址  ...      物流费用            确认收货时间 订单备注  \\\n",
      "0           Via C.Martignoni, 27 ALDENO  ...  US $0.00  2022-05-25 11:02  NaN   \n",
      "1                        Skouloudi M. 3  ...  US $0.00  2022-06-12 08:00  NaN   \n",
      "2                        HSEKMA 224 224  ...  US $0.00  2022-05-29 00:42  NaN   \n",
      "3  Noviy Gorodok (Новый Городок), 32 69  ...  US $0.00  2022-06-04 06:04  NaN   \n",
      "4                    Pittsburghstraat 9  ...  US $3.59  2022-05-16 13:07  NaN   \n",
      "\n",
      "   订单状态       订单金额   负责人（业务员）     预计增值税   联系电话               订单号       邮编  \n",
      "0  交易完成  US $11.66  null null  US $2.56   39.0  3016602292206320    38060  \n",
      "1  交易完成   US $3.88  null null  US $0.93   30.0  8149322817552550      NaN  \n",
      "2  交易完成  US $16.72  null null       NaN  972.0  8149727178429630  7311000  \n",
      "3  交易完成  US $12.24  null null       NaN    7.0  5027762282620590   143074  \n",
      "4  交易完成  US $17.47  null null  US $3.67   31.0  8149646547103460      NaN  \n",
      "\n",
      "[5 rows x 29 columns]\n"
     ]
    }
   ],
   "source": [
    "# 读取xlsx文件  \n",
    "data = pd.read_excel('/kaggle/input/smarthomedata/smarthome.xlsx')  \n",
    "  \n",
    "# 查看前几行数据  \n",
    "print(data.head())\n"
   ]
  },
  {
   "cell_type": "code",
   "execution_count": 3,
   "id": "a0457b93",
   "metadata": {
    "execution": {
     "iopub.execute_input": "2024-04-12T01:25:17.679057Z",
     "iopub.status.busy": "2024-04-12T01:25:17.678503Z",
     "iopub.status.idle": "2024-04-12T01:25:17.688126Z",
     "shell.execute_reply": "2024-04-12T01:25:17.686368Z"
    },
    "papermill": {
     "duration": 0.019418,
     "end_time": "2024-04-12T01:25:17.691144",
     "exception": false,
     "start_time": "2024-04-12T01:25:17.671726",
     "status": "completed"
    },
    "tags": []
   },
   "outputs": [],
   "source": [
    "# 创建中文列名到英文列名的映射字典  \n",
    "chinese_to_english_columns = {  \n",
    "    '下单时间': 'Order_Time',  \n",
    "    '买家名称': 'Buyer_Name',  \n",
    "    '买家选择物流': 'Selected_Logistics',  \n",
    "   '产品总金额':'Total_Product_Amount',\n",
    "'付款时间':'Payment_Time',\n",
    "'发货时间':'Shipment_Time',\n",
    "'发货期限':'Shipment_Deadline',\n",
    "'商品信息':'Product_Information',\n",
    "'商品编码':'Product_Code',\n",
    "'地址':'Address',\n",
    "'城市':'City',\n",
    "'实际发货单号': 'Actual_Shipping_Number',\n",
    "'州/省':'State/Province',\n",
    "'平台是否代征代缴':'Platform_Tax_Collection',\n",
    "'店铺优惠':'Store_Discount',\n",
    "'手机':'Phone_Number',\n",
    "'收件人名称':'Recipient_Name',\n",
    "'收货国家':'Delivery_Country',\n",
    "'收货地址':'Delivery Address',\n",
    "'物流费用':'Shipping_Cost',\n",
    "'确认收货时间':'Confirmation Time',\n",
    "'订单备注':'Order_Notes',\n",
    "'订单状态':'Order_Status',\n",
    "'订单金额':'Order_Amount',\n",
    "'负责人（业务员）':'Responsible_Person',\n",
    "'预计增值税':'Estimated_VAT',\n",
    "'联系电话':'Contact_Number',\n",
    "'订单号':'Order_Number',\n",
    "'邮编':'Postal_Code', \n",
    "    '邮编': 'Postal_Code' , \n",
    "}  "
   ]
  },
  {
   "cell_type": "code",
   "execution_count": 4,
   "id": "69d12116",
   "metadata": {
    "execution": {
     "iopub.execute_input": "2024-04-12T01:25:17.703589Z",
     "iopub.status.busy": "2024-04-12T01:25:17.703110Z",
     "iopub.status.idle": "2024-04-12T01:25:17.709830Z",
     "shell.execute_reply": "2024-04-12T01:25:17.708371Z"
    },
    "papermill": {
     "duration": 0.016698,
     "end_time": "2024-04-12T01:25:17.712986",
     "exception": false,
     "start_time": "2024-04-12T01:25:17.696288",
     "status": "completed"
    },
    "tags": []
   },
   "outputs": [],
   "source": [
    "# 使用映射字典重命名列名  \n",
    "data.rename(columns=chinese_to_english_columns, inplace=True)"
   ]
  },
  {
   "cell_type": "code",
   "execution_count": 5,
   "id": "5c2a5eaa",
   "metadata": {
    "execution": {
     "iopub.execute_input": "2024-04-12T01:25:17.726419Z",
     "iopub.status.busy": "2024-04-12T01:25:17.725974Z",
     "iopub.status.idle": "2024-04-12T01:25:17.746083Z",
     "shell.execute_reply": "2024-04-12T01:25:17.743544Z"
    },
    "papermill": {
     "duration": 0.030429,
     "end_time": "2024-04-12T01:25:17.749018",
     "exception": false,
     "start_time": "2024-04-12T01:25:17.718589",
     "status": "completed"
    },
    "tags": []
   },
   "outputs": [
    {
     "name": "stdout",
     "output_type": "stream",
     "text": [
      "         Order_Time             Buyer_Name             Selected_Logistics  \\\n",
      "0  2022-04-30 09:13  Antonietta Giovannini  Seller's Shipping Method - ES   \n",
      "1  2022-04-30 09:34            gioole user   Cainiao Super Economy Global   \n",
      "2  2022-04-30 10:26           zachi zaizev   AliExpress Standard Shipping   \n",
      "3  2022-04-30 10:46           Artem Lushov       Seller's Shipping Method   \n",
      "4  2022-04-30 13:41          Raymond Abell   AliExpress Standard Shipping   \n",
      "\n",
      "  Total_Product_Amount      Payment_Time     Shipment_Time Shipment_Deadline  \\\n",
      "0            US $14.22  2022-04-30 09:13  2022-04-30 11:00  2022-05-10 09:13   \n",
      "1             US $4.86  2022-04-30 09:35  2022-05-02 23:43  2022-05-10 09:35   \n",
      "2            US $16.72  2022-04-30 10:27  2022-05-02 02:03  2022-05-10 10:27   \n",
      "3            US $12.36  2022-04-30 10:46  2022-05-04 21:08  2022-05-10 10:46   \n",
      "4            US $17.55  2022-04-30 13:41  2022-05-02 02:03  2022-05-10 13:41   \n",
      "\n",
      "                                 Product_Information  \\\n",
      "0  【1】   Tuya Mini WiFi DIY Switch 16A 2 Way Cont...   \n",
      "1  【1】   RE5V1C 5V WiFi Smart Switch eWeLink Inch...   \n",
      "2  【1】   WiFi Temperature Humidity Sensor Indoor ...   \n",
      "3  【1】   Tuya Alice Wifi Smart Switch, 16A 2Way M...   \n",
      "4  【1】   Tuya Door Window Opening Sensor Detector...   \n",
      "\n",
      "                                        Product_Code  \\\n",
      "0  ALMQIKBBSTjZ5N23N3D02899K3G_X0V18MJ0916-40Za3b...   \n",
      "1       ALHNYM6640PZWNQ2S6E054V8Z1QQO0LF2YSEFDYR * 1   \n",
      "2       ALXY4QIHKAbZGNL3Z4S3532126Z_Y0A1JMB0V1DY * 1   \n",
      "3       ALFRWIWJB8PZWNM26608G133X1TYQ4OW3CBNRLVG * 3   \n",
      "4       ALMYBTLA7QVZJNS395U429A704I_V0L10L8EK5OU * 3   \n",
      "\n",
      "                                Address  ... Shipping_Cost Confirmation Time  \\\n",
      "0           Via C.Martignoni, 27 ALDENO  ...      US $0.00  2022-05-25 11:02   \n",
      "1                        Skouloudi M. 3  ...      US $0.00  2022-06-12 08:00   \n",
      "2                        HSEKMA 224 224  ...      US $0.00  2022-05-29 00:42   \n",
      "3  Noviy Gorodok (Новый Городок), 32 69  ...      US $0.00  2022-06-04 06:04   \n",
      "4                    Pittsburghstraat 9  ...      US $3.59  2022-05-16 13:07   \n",
      "\n",
      "  Order_Notes Order_Status Order_Amount Responsible_Person Estimated_VAT  \\\n",
      "0         NaN         交易完成    US $11.66          null null      US $2.56   \n",
      "1         NaN         交易完成     US $3.88          null null      US $0.93   \n",
      "2         NaN         交易完成    US $16.72          null null           NaN   \n",
      "3         NaN         交易完成    US $12.24          null null           NaN   \n",
      "4         NaN         交易完成    US $17.47          null null      US $3.67   \n",
      "\n",
      "  Contact_Number      Order_Number Postal_Code  \n",
      "0           39.0  3016602292206320       38060  \n",
      "1           30.0  8149322817552550         NaN  \n",
      "2          972.0  8149727178429630     7311000  \n",
      "3            7.0  5027762282620590      143074  \n",
      "4           31.0  8149646547103460         NaN  \n",
      "\n",
      "[5 rows x 29 columns]\n"
     ]
    }
   ],
   "source": [
    "# 打印前几行以检查列名  \n",
    "print(data.head())"
   ]
  },
  {
   "cell_type": "code",
   "execution_count": 6,
   "id": "8d4381ba",
   "metadata": {
    "execution": {
     "iopub.execute_input": "2024-04-12T01:25:17.762624Z",
     "iopub.status.busy": "2024-04-12T01:25:17.762204Z",
     "iopub.status.idle": "2024-04-12T01:25:17.925962Z",
     "shell.execute_reply": "2024-04-12T01:25:17.924677Z"
    },
    "papermill": {
     "duration": 0.17342,
     "end_time": "2024-04-12T01:25:17.928701",
     "exception": false,
     "start_time": "2024-04-12T01:25:17.755281",
     "status": "completed"
    },
    "tags": []
   },
   "outputs": [
    {
     "name": "stdout",
     "output_type": "stream",
     "text": [
      "       Order_Time  Buyer_Name  Selected_Logistics  Total_Product_Amount  \\\n",
      "0           False       False               False                 False   \n",
      "1           False       False               False                 False   \n",
      "2           False       False               False                 False   \n",
      "3           False       False               False                 False   \n",
      "4           False       False               False                 False   \n",
      "...           ...         ...                 ...                   ...   \n",
      "44568       False       False               False                 False   \n",
      "44569       False       False               False                 False   \n",
      "44570       False       False               False                 False   \n",
      "44571       False       False               False                 False   \n",
      "44572       False       False               False                 False   \n",
      "\n",
      "       Payment_Time  Shipment_Time  Shipment_Deadline  Product_Information  \\\n",
      "0             False          False              False                False   \n",
      "1             False          False              False                False   \n",
      "2             False          False              False                False   \n",
      "3             False          False              False                False   \n",
      "4             False          False              False                False   \n",
      "...             ...            ...                ...                  ...   \n",
      "44568         False          False              False                False   \n",
      "44569         False          False              False                False   \n",
      "44570         False          False              False                False   \n",
      "44571         False          False              False                False   \n",
      "44572         False          False              False                False   \n",
      "\n",
      "       Product_Code  Address  ...  Shipping_Cost  Confirmation Time  \\\n",
      "0             False    False  ...          False              False   \n",
      "1             False    False  ...          False              False   \n",
      "2             False    False  ...          False              False   \n",
      "3             False    False  ...          False              False   \n",
      "4             False    False  ...          False              False   \n",
      "...             ...      ...  ...            ...                ...   \n",
      "44568         False    False  ...          False               True   \n",
      "44569         False    False  ...          False               True   \n",
      "44570         False    False  ...          False               True   \n",
      "44571         False    False  ...          False               True   \n",
      "44572         False    False  ...          False               True   \n",
      "\n",
      "       Order_Notes  Order_Status  Order_Amount  Responsible_Person  \\\n",
      "0             True         False         False               False   \n",
      "1             True         False         False               False   \n",
      "2             True         False         False               False   \n",
      "3             True         False         False               False   \n",
      "4             True         False         False               False   \n",
      "...            ...           ...           ...                 ...   \n",
      "44568         True         False         False               False   \n",
      "44569         True         False         False               False   \n",
      "44570         True         False         False               False   \n",
      "44571         True         False         False               False   \n",
      "44572         True         False         False               False   \n",
      "\n",
      "       Estimated_VAT  Contact_Number  Order_Number  Postal_Code  \n",
      "0              False           False         False        False  \n",
      "1              False           False         False         True  \n",
      "2               True           False         False        False  \n",
      "3               True           False         False        False  \n",
      "4              False           False         False         True  \n",
      "...              ...             ...           ...          ...  \n",
      "44568          False           False         False        False  \n",
      "44569          False           False         False        False  \n",
      "44570          False           False         False        False  \n",
      "44571           True           False         False        False  \n",
      "44572          False           False         False        False  \n",
      "\n",
      "[44573 rows x 29 columns]\n"
     ]
    }
   ],
   "source": [
    "#查找缺少值\n",
    "missing_values = data.isnull() \n",
    "# 打印出哪些位置有缺失值  \n",
    "print(missing_values)"
   ]
  },
  {
   "cell_type": "code",
   "execution_count": 7,
   "id": "7ec4375c",
   "metadata": {
    "execution": {
     "iopub.execute_input": "2024-04-12T01:25:17.942522Z",
     "iopub.status.busy": "2024-04-12T01:25:17.941040Z",
     "iopub.status.idle": "2024-04-12T01:25:18.093140Z",
     "shell.execute_reply": "2024-04-12T01:25:18.091725Z"
    },
    "papermill": {
     "duration": 0.162294,
     "end_time": "2024-04-12T01:25:18.096357",
     "exception": false,
     "start_time": "2024-04-12T01:25:17.934063",
     "status": "completed"
    },
    "tags": []
   },
   "outputs": [
    {
     "name": "stdout",
     "output_type": "stream",
     "text": [
      "Order_Time                     0\n",
      "Buyer_Name                     2\n",
      "Selected_Logistics             0\n",
      "Total_Product_Amount           0\n",
      "Payment_Time                3113\n",
      "Shipment_Time               4087\n",
      "Shipment_Deadline              4\n",
      "Product_Information            0\n",
      "Product_Code                   1\n",
      "Address                        0\n",
      "City                           0\n",
      "Actual_Shipping_Number      4087\n",
      "State/Province                16\n",
      "Platform_Tax_Collection    23494\n",
      "Store_Discount                 0\n",
      "Phone_Number               18253\n",
      "Recipient_Name                 0\n",
      "Delivery_Country               0\n",
      "Delivery Address           17702\n",
      "Shipping_Cost                  0\n",
      "Confirmation Time           7404\n",
      "Order_Notes                44504\n",
      "Order_Status                   0\n",
      "Order_Amount                   0\n",
      "Responsible_Person             0\n",
      "Estimated_VAT              23494\n",
      "Contact_Number             17798\n",
      "Order_Number                   0\n",
      "Postal_Code                 3908\n",
      "dtype: int64\n"
     ]
    }
   ],
   "source": [
    "# 计算每一列中缺失值的数量  \n",
    "missing_counts = data.isnull().sum()  \n",
    "print(missing_counts)  \n"
   ]
  },
  {
   "cell_type": "code",
   "execution_count": 8,
   "id": "f60eca9e",
   "metadata": {
    "execution": {
     "iopub.execute_input": "2024-04-12T01:25:18.110111Z",
     "iopub.status.busy": "2024-04-12T01:25:18.109046Z",
     "iopub.status.idle": "2024-04-12T01:25:18.119006Z",
     "shell.execute_reply": "2024-04-12T01:25:18.117686Z"
    },
    "papermill": {
     "duration": 0.019737,
     "end_time": "2024-04-12T01:25:18.121670",
     "exception": false,
     "start_time": "2024-04-12T01:25:18.101933",
     "status": "completed"
    },
    "tags": []
   },
   "outputs": [
    {
     "data": {
      "text/plain": [
       "44573"
      ]
     },
     "execution_count": 8,
     "metadata": {},
     "output_type": "execute_result"
    }
   ],
   "source": [
    "data.shape[0]"
   ]
  },
  {
   "cell_type": "code",
   "execution_count": 9,
   "id": "9ece03f2",
   "metadata": {
    "execution": {
     "iopub.execute_input": "2024-04-12T01:25:18.135590Z",
     "iopub.status.busy": "2024-04-12T01:25:18.135087Z",
     "iopub.status.idle": "2024-04-12T01:25:18.312716Z",
     "shell.execute_reply": "2024-04-12T01:25:18.311705Z"
    },
    "papermill": {
     "duration": 0.187911,
     "end_time": "2024-04-12T01:25:18.315441",
     "exception": false,
     "start_time": "2024-04-12T01:25:18.127530",
     "status": "completed"
    },
    "tags": []
   },
   "outputs": [
    {
     "name": "stdout",
     "output_type": "stream",
     "text": [
      "Order_Time                 0.000000\n",
      "Buyer_Name                 0.000045\n",
      "Selected_Logistics         0.000000\n",
      "Total_Product_Amount       0.000000\n",
      "Payment_Time               0.069840\n",
      "Shipment_Time              0.091692\n",
      "Shipment_Deadline          0.000090\n",
      "Product_Information        0.000000\n",
      "Product_Code               0.000022\n",
      "Address                    0.000000\n",
      "City                       0.000000\n",
      "Actual_Shipping_Number     0.091692\n",
      "State/Province             0.000359\n",
      "Platform_Tax_Collection    0.527090\n",
      "Store_Discount             0.000000\n",
      "Phone_Number               0.409508\n",
      "Recipient_Name             0.000000\n",
      "Delivery_Country           0.000000\n",
      "Delivery Address           0.397146\n",
      "Shipping_Cost              0.000000\n",
      "Confirmation Time          0.166110\n",
      "Order_Notes                0.998452\n",
      "Order_Status               0.000000\n",
      "Order_Amount               0.000000\n",
      "Responsible_Person         0.000000\n",
      "Estimated_VAT              0.527090\n",
      "Contact_Number             0.399300\n",
      "Order_Number               0.000000\n",
      "Postal_Code                0.087676\n",
      "dtype: float64\n"
     ]
    }
   ],
   "source": [
    "#计算缺少值的比例\n",
    "# 首先计算每一列的缺失值数量   \n",
    "missing_counts = data.isnull().sum() \n",
    "# 然后计算总的行数  \n",
    "total_rows = data.shape[0]  \n",
    "# 计算缺失数据比例  \n",
    "missing_ratio = missing_counts / total_rows\n",
    "# 打印出每一列的缺失数据比例  \n",
    "print(missing_ratio)"
   ]
  },
  {
   "cell_type": "code",
   "execution_count": 10,
   "id": "54f9f1c8",
   "metadata": {
    "execution": {
     "iopub.execute_input": "2024-04-12T01:25:18.330472Z",
     "iopub.status.busy": "2024-04-12T01:25:18.330079Z",
     "iopub.status.idle": "2024-04-12T01:25:18.348786Z",
     "shell.execute_reply": "2024-04-12T01:25:18.346779Z"
    },
    "papermill": {
     "duration": 0.03008,
     "end_time": "2024-04-12T01:25:18.352007",
     "exception": false,
     "start_time": "2024-04-12T01:25:18.321927",
     "status": "completed"
    },
    "tags": []
   },
   "outputs": [
    {
     "name": "stdout",
     "output_type": "stream",
     "text": [
      "      Platform_Tax_Collection Phone_Number  \\\n",
      "0                        平台已税   3703645418   \n",
      "1                        平台已税   6942012430   \n",
      "2                         NaN    537269999   \n",
      "3                         NaN   9268130528   \n",
      "4                        平台已税    652624597   \n",
      "...                       ...          ...   \n",
      "44568                    平台已税   3493815552   \n",
      "44569                    平台已税    607637233   \n",
      "44570                    平台已税    616147339   \n",
      "44571                     NaN   5521001979   \n",
      "44572                    平台已税    917219611   \n",
      "\n",
      "                                        Delivery Address Confirmation Time  \\\n",
      "0      Via C.Martignoni, 27 ALDENO、Trento、Trentino-Al...  2022-05-25 11:02   \n",
      "1                       Skouloudi M. 3、Gazi、Crete、Greece  2022-06-12 08:00   \n",
      "2                   HSEKMA 224 224、GINATON、ISRAEL、Israel  2022-05-29 00:42   \n",
      "3      Noviy Gorodok (Новый Городок), 32 69、Odincovo ...  2022-06-04 06:04   \n",
      "4      Pittsburghstraat 9、Rotterdam、Zuid Holland、Neth...  2022-05-16 13:07   \n",
      "...                                                  ...               ...   \n",
      "44568  via E. Perrone, 1 STERNATIA c/o Punto e Virgol...               NaN   \n",
      "44569        32 rue Lamartine、Versailles、Yvelines、France               NaN   \n",
      "44570  Calle del Monasterio de El Paular 124、Madrid、M...               NaN   \n",
      "44571  Luisa 82 302、Benito Juarez、Ciudad de Mexico、Me...               NaN   \n",
      "44572  Pretoki 11c、Sveti Ivan Zelina、Croatia、Croatia ...               NaN   \n",
      "\n",
      "      Order_Notes Estimated_VAT  Contact_Number  \n",
      "0             NaN      US $2.56            39.0  \n",
      "1             NaN      US $0.93            30.0  \n",
      "2             NaN           NaN           972.0  \n",
      "3             NaN           NaN             7.0  \n",
      "4             NaN      US $3.67            31.0  \n",
      "...           ...           ...             ...  \n",
      "44568         NaN      US $4.19            39.0  \n",
      "44569         NaN      US $8.26            33.0  \n",
      "44570         NaN      US $4.08            34.0  \n",
      "44571         NaN           NaN            52.0  \n",
      "44572         NaN      US $5.78           385.0  \n",
      "\n",
      "[44573 rows x 7 columns]\n"
     ]
    }
   ],
   "source": [
    "# 创建一个布尔序列，标记缺失值比例低于10%的列\n",
    "columns_to_drop = missing_ratio < 0.10 \n",
    "# 删除缺失值比例低于10%的行\n",
    "df_dropped = data.drop(columns_to_drop[columns_to_drop].index, axis=1)   \n",
    "  \n",
    "# 输出处理后的DataFrame  \n",
    "print(df_dropped)"
   ]
  }
 ],
 "metadata": {
  "kaggle": {
   "accelerator": "none",
   "dataSources": [
    {
     "datasetId": 4767233,
     "sourceId": 8077679,
     "sourceType": "datasetVersion"
    }
   ],
   "dockerImageVersionId": 30684,
   "isGpuEnabled": false,
   "isInternetEnabled": true,
   "language": "python",
   "sourceType": "notebook"
  },
  "kernelspec": {
   "display_name": "Python 3",
   "language": "python",
   "name": "python3"
  },
  "language_info": {
   "codemirror_mode": {
    "name": "ipython",
    "version": 3
   },
   "file_extension": ".py",
   "mimetype": "text/x-python",
   "name": "python",
   "nbconvert_exporter": "python",
   "pygments_lexer": "ipython3",
   "version": "3.10.13"
  },
  "papermill": {
   "default_parameters": {},
   "duration": 45.261394,
   "end_time": "2024-04-12T01:25:19.082278",
   "environment_variables": {},
   "exception": null,
   "input_path": "__notebook__.ipynb",
   "output_path": "__notebook__.ipynb",
   "parameters": {},
   "start_time": "2024-04-12T01:24:33.820884",
   "version": "2.5.0"
  }
 },
 "nbformat": 4,
 "nbformat_minor": 5
}
