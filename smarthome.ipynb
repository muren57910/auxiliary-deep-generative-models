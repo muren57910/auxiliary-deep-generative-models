{
 "cells": [
  {
   "cell_type": "code",
   "execution_count": 1,
   "id": "3b6de635",
   "metadata": {
    "_cell_guid": "b1076dfc-b9ad-4769-8c92-a6c4dae69d19",
    "_uuid": "8f2839f25d086af736a60e9eeb907d3b93b6e0e5",
    "execution": {
     "iopub.execute_input": "2024-04-12T07:13:29.906702Z",
     "iopub.status.busy": "2024-04-12T07:13:29.906110Z",
     "iopub.status.idle": "2024-04-12T07:13:30.572897Z",
     "shell.execute_reply": "2024-04-12T07:13:30.571522Z"
    },
    "papermill": {
     "duration": 0.678595,
     "end_time": "2024-04-12T07:13:30.575276",
     "exception": false,
     "start_time": "2024-04-12T07:13:29.896681",
     "status": "completed"
    },
    "tags": []
   },
   "outputs": [
    {
     "name": "stdout",
     "output_type": "stream",
     "text": [
      "/kaggle/input/smarthomedata/smarthome.xlsx\n"
     ]
    }
   ],
   "source": [
    "# This Python 3 environment comes with many helpful analytics libraries installed\n",
    "# It is defined by the kaggle/python Docker image: https://github.com/kaggle/docker-python\n",
    "# For example, here's several helpful packages to load\n",
    "\n",
    "import numpy as np # linear algebra\n",
    "import pandas as pd # data processing, CSV file I/O (e.g. pd.read_csv)\n",
    "\n",
    "# Input data files are available in the read-only \"../input/\" directory\n",
    "# For example, running this (by clicking run or pressing Shift+Enter) will list all files under the input directory\n",
    "\n",
    "import os\n",
    "for dirname, _, filenames in os.walk('/kaggle/input'):\n",
    "    for filename in filenames:\n",
    "        print(os.path.join(dirname, filename))\n",
    "\n",
    "# You can write up to 20GB to the current directory (/kaggle/working/) that gets preserved as output when you create a version using \"Save & Run All\" \n",
    "# You can also write temporary files to /kaggle/temp/, but they won't be saved outside of the current session"
   ]
  },
  {
   "cell_type": "markdown",
   "id": "1118b157",
   "metadata": {
    "papermill": {
     "duration": 0.0074,
     "end_time": "2024-04-12T07:13:30.590728",
     "exception": false,
     "start_time": "2024-04-12T07:13:30.583328",
     "status": "completed"
    },
    "tags": []
   },
   "source": [
    "智能家居品类精品店铺运营提升分析与营销实践\n",
    "精品类运营模式通常指的是一种专注于高品质、独特性、以及提供卓越客户体验的商业运营方式。这种模式在多个方面与传统的量产和大众市场运营模式有\n",
    "所不同:√ 高品质和独特性:精品类运营模式强调产品的高品质和独特性。这些产品通常具有优越的设计、材料、工艺或者是独特的品牌故事。它们可能是手工制作的，或者在生产过程中注重细节和个性化。\n",
    "√目标客户群体:精品运营模式通常针对的是对品质、设计和独特性有更高要求的细分市场。这类消费者更注重产品的独特性和个性化，而不是仅仅追求功能性或成本效益。\n",
    "√客户体验:精品类运营模式非常重视客户体验。这包括提供高水平的客户服务、创造独特的购物体验、以及建立个性化的客户关系。\n",
    "√ 定价策略:由于精品类产品强调品质和独特性，其定价策略通常是高端定价，以反映其独特价值和品牌定位。\n",
    "√ 营销和品牌传播:在精品类运营模式中，营销和品牌传播通常采用更为精细化和定制化的策略。品牌故事、品质保证和独特的设计理念是营销传播的重要组成部分。\n",
    "√ 销售渠道:精品类产品可能通过专门的精品店、高端零售商、或者专属的在线平台销售，以确保品牌形象和客户体验的一致性。\n",
    "随着物联网、人工智能、和无线通信技术的发展，智能家居设备变得更加高效、可靠和易于使用。智能家居产品如智能灯光、智能安全系统、智能恒温器等,为用户提供了极大的便利，改善了日常生活的质量。此外，智能家居产品能够有效地节省能源，如通过智能恒温器节省暖气和空调的能耗。随着全球环保意识的提升,越来越多的消费者倾向于选择能够帮助他们减少能耗和碳排放的智能家居产品。\n",
    "与此同时，智能家居类产品被定位为高端市场，针对的是追求高品质生活的消费者群体，这自然导致了较高的客单价。而高客单价往往意味着高利润，因此智能家居品类无疑也是跨境电商企业采用“精品类运营”模式的较好选择。\n",
    "二、数据集介绍\n",
    "本题提供的数据是 AliExpress 全球速卖通平台上某一真实智能家居品类店铺1年内的实际订单数据，数据已经过脱敏处理，时间为2022年5月-2023 年4月，详细见附件。\n",
    "三、任务1:行业背景调研\n",
    "本任务为开放式，可参考以下分析方向:\n",
    "智能家居行业背景分析:①市场规模分析、②行业渗透率、③行业融资等。\n",
    "跨境电商智能家居类品类调研:①不同平台女装品类相关分析(销售情况、发展趋势、消费者偏好等)、②消费者国别分布分析、③热销属性分析等。\n",
    "请在报告中给出数据采集出处、处理过程、必要结果及相关分析\n",
    "四、任务 2:数据预处理\n",
    "可参考以下步骤:\n",
    "数据排序、数据计算、数据清洗、数据转化、特征编码等请在报告中给出处理过程、必要结果及相关分析。\n",
    "五、任务 3:店铺运营情况分析\n",
    "通过分析运营数据，企业能更好地理解目标市场的特征和需求，从而使其产品和服务更准确地对准目标客户群。可参考以下分析方向:\n",
    "铺货店铺的淡旺季分析\n",
    "季节性产品分析、大促产品分析(哪些产品在特定的节日或者季节热销)\n",
    "消费者国别分析\n",
    "热销属性分析(热销颜色、尺寸等)\n",
    "复购率分析\n",
    "销售趋势预测\n",
    "六、任务 4:精品店铺运营提升分析\n",
    "根据店铺数据给出精品店铺运营提升的方向，可参考如下分析方向:滞销产品的处理(优化或移除)\n",
    "备货建议\n",
    "直通车或营销活动建议\n",
    "供应商选择(www.1688.com)\n",
    "价格优化\n",
    "另外，店铺运营提升的不止局限于附件中的数据，选手们可根据跨境电商市场现实情况以及对店铺定位的理解进行选品分析，旨在提升该智能家居品类速卖通店铺的综合竞争力。\n",
    "请在报告中给出必要结果及相关分析。\n",
    "七、任务 5:数字营销实践活动\n",
    "本模块为开放式，请根据上述分析结果进行数字营销实践活动，包括站内营销、基于关键词的营销、内容营销。站内营销是基于跨境电商企业真正运营的第三方电商平台开展站内营销活动;基于关键词的营销是通过数据分析得到候选关键词，再利用这些关键词设计和优化搜索引擎或社交媒体的关键词广告的方案;内容营销是在数据分析的基础之上进行图文营销、短视频营销、中视频营销。\n",
    "说明:①参赛团队至少完成一种以上的数字营销实践活动。②输出形式不限，如营销方案、海报图文、短(中)视频脚本、短(中)视频链接或二维码等\n",
    "八、任务6:可视化展示及总结\n",
    "对上述分析结果进行进一步的整理，输出可视化的大屏，形成报告总结。"
   ]
  },
  {
   "cell_type": "code",
   "execution_count": 2,
   "id": "1c3a2377",
   "metadata": {
    "execution": {
     "iopub.execute_input": "2024-04-12T07:13:30.607848Z",
     "iopub.status.busy": "2024-04-12T07:13:30.607417Z",
     "iopub.status.idle": "2024-04-12T07:13:52.594861Z",
     "shell.execute_reply": "2024-04-12T07:13:52.593740Z"
    },
    "papermill": {
     "duration": 21.998191,
     "end_time": "2024-04-12T07:13:52.596564",
     "exception": false,
     "start_time": "2024-04-12T07:13:30.598373",
     "status": "completed"
    },
    "tags": []
   },
   "outputs": [
    {
     "name": "stdout",
     "output_type": "stream",
     "text": [
      "               下单时间                   买家名称                         买家选择物流  \\\n",
      "0  2022-04-30 09:13  Antonietta Giovannini  Seller's Shipping Method - ES   \n",
      "1  2022-04-30 09:34            gioole user   Cainiao Super Economy Global   \n",
      "2  2022-04-30 10:26           zachi zaizev   AliExpress Standard Shipping   \n",
      "3  2022-04-30 10:46           Artem Lushov       Seller's Shipping Method   \n",
      "4  2022-04-30 13:41          Raymond Abell   AliExpress Standard Shipping   \n",
      "\n",
      "       产品总金额              付款时间              发货时间              发货期限  \\\n",
      "0  US $14.22  2022-04-30 09:13  2022-04-30 11:00  2022-05-10 09:13   \n",
      "1   US $4.86  2022-04-30 09:35  2022-05-02 23:43  2022-05-10 09:35   \n",
      "2  US $16.72  2022-04-30 10:27  2022-05-02 02:03  2022-05-10 10:27   \n",
      "3  US $12.36  2022-04-30 10:46  2022-05-04 21:08  2022-05-10 10:46   \n",
      "4  US $17.55  2022-04-30 13:41  2022-05-02 02:03  2022-05-10 13:41   \n",
      "\n",
      "                                                商品信息  \\\n",
      "0  【1】   Tuya Mini WiFi DIY Switch 16A 2 Way Cont...   \n",
      "1  【1】   RE5V1C 5V WiFi Smart Switch eWeLink Inch...   \n",
      "2  【1】   WiFi Temperature Humidity Sensor Indoor ...   \n",
      "3  【1】   Tuya Alice Wifi Smart Switch, 16A 2Way M...   \n",
      "4  【1】   Tuya Door Window Opening Sensor Detector...   \n",
      "\n",
      "                                                商品编码  \\\n",
      "0  ALMQIKBBSTjZ5N23N3D02899K3G_X0V18MJ0916-40Za3b...   \n",
      "1       ALHNYM6640PZWNQ2S6E054V8Z1QQO0LF2YSEFDYR * 1   \n",
      "2       ALXY4QIHKAbZGNL3Z4S3532126Z_Y0A1JMB0V1DY * 1   \n",
      "3       ALFRWIWJB8PZWNM26608G133X1TYQ4OW3CBNRLVG * 3   \n",
      "4       ALMYBTLA7QVZJNS395U429A704I_V0L10L8EK5OU * 3   \n",
      "\n",
      "                                     地址  ...      物流费用            确认收货时间 订单备注  \\\n",
      "0           Via C.Martignoni, 27 ALDENO  ...  US $0.00  2022-05-25 11:02  NaN   \n",
      "1                        Skouloudi M. 3  ...  US $0.00  2022-06-12 08:00  NaN   \n",
      "2                        HSEKMA 224 224  ...  US $0.00  2022-05-29 00:42  NaN   \n",
      "3  Noviy Gorodok (Новый Городок), 32 69  ...  US $0.00  2022-06-04 06:04  NaN   \n",
      "4                    Pittsburghstraat 9  ...  US $3.59  2022-05-16 13:07  NaN   \n",
      "\n",
      "   订单状态       订单金额   负责人（业务员）     预计增值税   联系电话               订单号       邮编  \n",
      "0  交易完成  US $11.66  null null  US $2.56   39.0  3016602292206320    38060  \n",
      "1  交易完成   US $3.88  null null  US $0.93   30.0  8149322817552550      NaN  \n",
      "2  交易完成  US $16.72  null null       NaN  972.0  8149727178429630  7311000  \n",
      "3  交易完成  US $12.24  null null       NaN    7.0  5027762282620590   143074  \n",
      "4  交易完成  US $17.47  null null  US $3.67   31.0  8149646547103460      NaN  \n",
      "\n",
      "[5 rows x 29 columns]\n"
     ]
    }
   ],
   "source": [
    "# 读取xlsx文件  \n",
    "data = pd.read_excel('/kaggle/input/smarthomedata/smarthome.xlsx')  \n",
    "  \n",
    "# 查看前几行数据  \n",
    "print(data.head())\n"
   ]
  },
  {
   "cell_type": "code",
   "execution_count": 3,
   "id": "4ede03a9",
   "metadata": {
    "execution": {
     "iopub.execute_input": "2024-04-12T07:13:52.616204Z",
     "iopub.status.busy": "2024-04-12T07:13:52.615417Z",
     "iopub.status.idle": "2024-04-12T07:13:52.621321Z",
     "shell.execute_reply": "2024-04-12T07:13:52.620734Z"
    },
    "papermill": {
     "duration": 0.018455,
     "end_time": "2024-04-12T07:13:52.623312",
     "exception": false,
     "start_time": "2024-04-12T07:13:52.604857",
     "status": "completed"
    },
    "tags": []
   },
   "outputs": [],
   "source": [
    "# 创建中文列名到英文列名的映射字典  \n",
    "chinese_to_english_columns = {  \n",
    "    '下单时间': 'Order_Time',  \n",
    "    '买家名称': 'Buyer_Name',  \n",
    "    '买家选择物流': 'Selected_Logistics',  \n",
    "   '产品总金额':'Total_Product_Amount',\n",
    "'付款时间':'Payment_Time',\n",
    "'发货时间':'Shipment_Time',\n",
    "'发货期限':'Shipment_Deadline',\n",
    "'商品信息':'Product_Information',\n",
    "'商品编码':'Product_Code',\n",
    "'地址':'Address',\n",
    "'城市':'City',\n",
    "'实际发货单号': 'Actual_Shipping_Number',\n",
    "'州/省':'State/Province',\n",
    "'平台是否代征代缴':'Platform_Tax_Collection',\n",
    "'店铺优惠':'Store_Discount',\n",
    "'手机':'Phone_Number',\n",
    "'收件人名称':'Recipient_Name',\n",
    "'收货国家':'Delivery_Country',\n",
    "'收货地址':'Delivery Address',\n",
    "'物流费用':'Shipping_Cost',\n",
    "'确认收货时间':'Confirmation Time',\n",
    "'订单备注':'Order_Notes',\n",
    "'订单状态':'Order_Status',\n",
    "'订单金额':'Order_Amount',\n",
    "'负责人（业务员）':'Responsible_Person',\n",
    "'预计增值税':'Estimated_VAT',\n",
    "'联系电话':'Contact_Number',\n",
    "'订单号':'Order_Number',\n",
    "'邮编':'Postal_Code', \n",
    "    '邮编': 'Postal_Code' , \n",
    "}  "
   ]
  },
  {
   "cell_type": "code",
   "execution_count": 4,
   "id": "b577a837",
   "metadata": {
    "execution": {
     "iopub.execute_input": "2024-04-12T07:13:52.640704Z",
     "iopub.status.busy": "2024-04-12T07:13:52.640351Z",
     "iopub.status.idle": "2024-04-12T07:13:52.644649Z",
     "shell.execute_reply": "2024-04-12T07:13:52.643887Z"
    },
    "papermill": {
     "duration": 0.01524,
     "end_time": "2024-04-12T07:13:52.646697",
     "exception": false,
     "start_time": "2024-04-12T07:13:52.631457",
     "status": "completed"
    },
    "tags": []
   },
   "outputs": [],
   "source": [
    "# 使用映射字典重命名列名  \n",
    "data.rename(columns=chinese_to_english_columns, inplace=True)"
   ]
  },
  {
   "cell_type": "code",
   "execution_count": 5,
   "id": "2ff6cab9",
   "metadata": {
    "execution": {
     "iopub.execute_input": "2024-04-12T07:13:52.665652Z",
     "iopub.status.busy": "2024-04-12T07:13:52.664523Z",
     "iopub.status.idle": "2024-04-12T07:13:52.676789Z",
     "shell.execute_reply": "2024-04-12T07:13:52.675489Z"
    },
    "papermill": {
     "duration": 0.023732,
     "end_time": "2024-04-12T07:13:52.678970",
     "exception": false,
     "start_time": "2024-04-12T07:13:52.655238",
     "status": "completed"
    },
    "tags": []
   },
   "outputs": [
    {
     "name": "stdout",
     "output_type": "stream",
     "text": [
      "         Order_Time             Buyer_Name             Selected_Logistics  \\\n",
      "0  2022-04-30 09:13  Antonietta Giovannini  Seller's Shipping Method - ES   \n",
      "1  2022-04-30 09:34            gioole user   Cainiao Super Economy Global   \n",
      "2  2022-04-30 10:26           zachi zaizev   AliExpress Standard Shipping   \n",
      "3  2022-04-30 10:46           Artem Lushov       Seller's Shipping Method   \n",
      "4  2022-04-30 13:41          Raymond Abell   AliExpress Standard Shipping   \n",
      "\n",
      "  Total_Product_Amount      Payment_Time     Shipment_Time Shipment_Deadline  \\\n",
      "0            US $14.22  2022-04-30 09:13  2022-04-30 11:00  2022-05-10 09:13   \n",
      "1             US $4.86  2022-04-30 09:35  2022-05-02 23:43  2022-05-10 09:35   \n",
      "2            US $16.72  2022-04-30 10:27  2022-05-02 02:03  2022-05-10 10:27   \n",
      "3            US $12.36  2022-04-30 10:46  2022-05-04 21:08  2022-05-10 10:46   \n",
      "4            US $17.55  2022-04-30 13:41  2022-05-02 02:03  2022-05-10 13:41   \n",
      "\n",
      "                                 Product_Information  \\\n",
      "0  【1】   Tuya Mini WiFi DIY Switch 16A 2 Way Cont...   \n",
      "1  【1】   RE5V1C 5V WiFi Smart Switch eWeLink Inch...   \n",
      "2  【1】   WiFi Temperature Humidity Sensor Indoor ...   \n",
      "3  【1】   Tuya Alice Wifi Smart Switch, 16A 2Way M...   \n",
      "4  【1】   Tuya Door Window Opening Sensor Detector...   \n",
      "\n",
      "                                        Product_Code  \\\n",
      "0  ALMQIKBBSTjZ5N23N3D02899K3G_X0V18MJ0916-40Za3b...   \n",
      "1       ALHNYM6640PZWNQ2S6E054V8Z1QQO0LF2YSEFDYR * 1   \n",
      "2       ALXY4QIHKAbZGNL3Z4S3532126Z_Y0A1JMB0V1DY * 1   \n",
      "3       ALFRWIWJB8PZWNM26608G133X1TYQ4OW3CBNRLVG * 3   \n",
      "4       ALMYBTLA7QVZJNS395U429A704I_V0L10L8EK5OU * 3   \n",
      "\n",
      "                                Address  ... Shipping_Cost Confirmation Time  \\\n",
      "0           Via C.Martignoni, 27 ALDENO  ...      US $0.00  2022-05-25 11:02   \n",
      "1                        Skouloudi M. 3  ...      US $0.00  2022-06-12 08:00   \n",
      "2                        HSEKMA 224 224  ...      US $0.00  2022-05-29 00:42   \n",
      "3  Noviy Gorodok (Новый Городок), 32 69  ...      US $0.00  2022-06-04 06:04   \n",
      "4                    Pittsburghstraat 9  ...      US $3.59  2022-05-16 13:07   \n",
      "\n",
      "  Order_Notes Order_Status Order_Amount Responsible_Person Estimated_VAT  \\\n",
      "0         NaN         交易完成    US $11.66          null null      US $2.56   \n",
      "1         NaN         交易完成     US $3.88          null null      US $0.93   \n",
      "2         NaN         交易完成    US $16.72          null null           NaN   \n",
      "3         NaN         交易完成    US $12.24          null null           NaN   \n",
      "4         NaN         交易完成    US $17.47          null null      US $3.67   \n",
      "\n",
      "  Contact_Number      Order_Number Postal_Code  \n",
      "0           39.0  3016602292206320       38060  \n",
      "1           30.0  8149322817552550         NaN  \n",
      "2          972.0  8149727178429630     7311000  \n",
      "3            7.0  5027762282620590      143074  \n",
      "4           31.0  8149646547103460         NaN  \n",
      "\n",
      "[5 rows x 29 columns]\n"
     ]
    }
   ],
   "source": [
    "# 打印前几行以检查列名  \n",
    "print(data.head())"
   ]
  },
  {
   "cell_type": "code",
   "execution_count": 6,
   "id": "d8cbc495",
   "metadata": {
    "execution": {
     "iopub.execute_input": "2024-04-12T07:13:52.696035Z",
     "iopub.status.busy": "2024-04-12T07:13:52.695668Z",
     "iopub.status.idle": "2024-04-12T07:13:52.785071Z",
     "shell.execute_reply": "2024-04-12T07:13:52.784379Z"
    },
    "papermill": {
     "duration": 0.100226,
     "end_time": "2024-04-12T07:13:52.787111",
     "exception": false,
     "start_time": "2024-04-12T07:13:52.686885",
     "status": "completed"
    },
    "tags": []
   },
   "outputs": [
    {
     "name": "stdout",
     "output_type": "stream",
     "text": [
      "       Order_Time  Buyer_Name  Selected_Logistics  Total_Product_Amount  \\\n",
      "0           False       False               False                 False   \n",
      "1           False       False               False                 False   \n",
      "2           False       False               False                 False   \n",
      "3           False       False               False                 False   \n",
      "4           False       False               False                 False   \n",
      "...           ...         ...                 ...                   ...   \n",
      "44568       False       False               False                 False   \n",
      "44569       False       False               False                 False   \n",
      "44570       False       False               False                 False   \n",
      "44571       False       False               False                 False   \n",
      "44572       False       False               False                 False   \n",
      "\n",
      "       Payment_Time  Shipment_Time  Shipment_Deadline  Product_Information  \\\n",
      "0             False          False              False                False   \n",
      "1             False          False              False                False   \n",
      "2             False          False              False                False   \n",
      "3             False          False              False                False   \n",
      "4             False          False              False                False   \n",
      "...             ...            ...                ...                  ...   \n",
      "44568         False          False              False                False   \n",
      "44569         False          False              False                False   \n",
      "44570         False          False              False                False   \n",
      "44571         False          False              False                False   \n",
      "44572         False          False              False                False   \n",
      "\n",
      "       Product_Code  Address  ...  Shipping_Cost  Confirmation Time  \\\n",
      "0             False    False  ...          False              False   \n",
      "1             False    False  ...          False              False   \n",
      "2             False    False  ...          False              False   \n",
      "3             False    False  ...          False              False   \n",
      "4             False    False  ...          False              False   \n",
      "...             ...      ...  ...            ...                ...   \n",
      "44568         False    False  ...          False               True   \n",
      "44569         False    False  ...          False               True   \n",
      "44570         False    False  ...          False               True   \n",
      "44571         False    False  ...          False               True   \n",
      "44572         False    False  ...          False               True   \n",
      "\n",
      "       Order_Notes  Order_Status  Order_Amount  Responsible_Person  \\\n",
      "0             True         False         False               False   \n",
      "1             True         False         False               False   \n",
      "2             True         False         False               False   \n",
      "3             True         False         False               False   \n",
      "4             True         False         False               False   \n",
      "...            ...           ...           ...                 ...   \n",
      "44568         True         False         False               False   \n",
      "44569         True         False         False               False   \n",
      "44570         True         False         False               False   \n",
      "44571         True         False         False               False   \n",
      "44572         True         False         False               False   \n",
      "\n",
      "       Estimated_VAT  Contact_Number  Order_Number  Postal_Code  \n",
      "0              False           False         False        False  \n",
      "1              False           False         False         True  \n",
      "2               True           False         False        False  \n",
      "3               True           False         False        False  \n",
      "4              False           False         False         True  \n",
      "...              ...             ...           ...          ...  \n",
      "44568          False           False         False        False  \n",
      "44569          False           False         False        False  \n",
      "44570          False           False         False        False  \n",
      "44571           True           False         False        False  \n",
      "44572          False           False         False        False  \n",
      "\n",
      "[44573 rows x 29 columns]\n"
     ]
    }
   ],
   "source": [
    "#查找缺少值\n",
    "missing_values = data.isnull() \n",
    "# 打印出哪些位置有缺失值  \n",
    "print(missing_values)"
   ]
  },
  {
   "cell_type": "code",
   "execution_count": 7,
   "id": "14776dff",
   "metadata": {
    "execution": {
     "iopub.execute_input": "2024-04-12T07:13:52.804709Z",
     "iopub.status.busy": "2024-04-12T07:13:52.804076Z",
     "iopub.status.idle": "2024-04-12T07:13:52.887005Z",
     "shell.execute_reply": "2024-04-12T07:13:52.885687Z"
    },
    "papermill": {
     "duration": 0.094007,
     "end_time": "2024-04-12T07:13:52.889277",
     "exception": false,
     "start_time": "2024-04-12T07:13:52.795270",
     "status": "completed"
    },
    "tags": []
   },
   "outputs": [
    {
     "name": "stdout",
     "output_type": "stream",
     "text": [
      "Order_Time                     0\n",
      "Buyer_Name                     2\n",
      "Selected_Logistics             0\n",
      "Total_Product_Amount           0\n",
      "Payment_Time                3113\n",
      "Shipment_Time               4087\n",
      "Shipment_Deadline              4\n",
      "Product_Information            0\n",
      "Product_Code                   1\n",
      "Address                        0\n",
      "City                           0\n",
      "Actual_Shipping_Number      4087\n",
      "State/Province                16\n",
      "Platform_Tax_Collection    23494\n",
      "Store_Discount                 0\n",
      "Phone_Number               18253\n",
      "Recipient_Name                 0\n",
      "Delivery_Country               0\n",
      "Delivery Address           17702\n",
      "Shipping_Cost                  0\n",
      "Confirmation Time           7404\n",
      "Order_Notes                44504\n",
      "Order_Status                   0\n",
      "Order_Amount                   0\n",
      "Responsible_Person             0\n",
      "Estimated_VAT              23494\n",
      "Contact_Number             17798\n",
      "Order_Number                   0\n",
      "Postal_Code                 3908\n",
      "dtype: int64\n"
     ]
    }
   ],
   "source": [
    "# 计算每一列中缺失值的数量  \n",
    "missing_counts = data.isnull().sum()  \n",
    "print(missing_counts)  \n"
   ]
  },
  {
   "cell_type": "code",
   "execution_count": 8,
   "id": "930fe74d",
   "metadata": {
    "execution": {
     "iopub.execute_input": "2024-04-12T07:13:52.907198Z",
     "iopub.status.busy": "2024-04-12T07:13:52.906889Z",
     "iopub.status.idle": "2024-04-12T07:13:52.912374Z",
     "shell.execute_reply": "2024-04-12T07:13:52.911819Z"
    },
    "papermill": {
     "duration": 0.016565,
     "end_time": "2024-04-12T07:13:52.914166",
     "exception": false,
     "start_time": "2024-04-12T07:13:52.897601",
     "status": "completed"
    },
    "tags": []
   },
   "outputs": [
    {
     "data": {
      "text/plain": [
       "44573"
      ]
     },
     "execution_count": 8,
     "metadata": {},
     "output_type": "execute_result"
    }
   ],
   "source": [
    "data.shape[0]"
   ]
  },
  {
   "cell_type": "code",
   "execution_count": 9,
   "id": "1f1fa93c",
   "metadata": {
    "execution": {
     "iopub.execute_input": "2024-04-12T07:13:52.932750Z",
     "iopub.status.busy": "2024-04-12T07:13:52.932366Z",
     "iopub.status.idle": "2024-04-12T07:13:53.022608Z",
     "shell.execute_reply": "2024-04-12T07:13:53.021501Z"
    },
    "papermill": {
     "duration": 0.101493,
     "end_time": "2024-04-12T07:13:53.024183",
     "exception": false,
     "start_time": "2024-04-12T07:13:52.922690",
     "status": "completed"
    },
    "tags": []
   },
   "outputs": [
    {
     "name": "stdout",
     "output_type": "stream",
     "text": [
      "Order_Time                 0.000000\n",
      "Buyer_Name                 0.000045\n",
      "Selected_Logistics         0.000000\n",
      "Total_Product_Amount       0.000000\n",
      "Payment_Time               0.069840\n",
      "Shipment_Time              0.091692\n",
      "Shipment_Deadline          0.000090\n",
      "Product_Information        0.000000\n",
      "Product_Code               0.000022\n",
      "Address                    0.000000\n",
      "City                       0.000000\n",
      "Actual_Shipping_Number     0.091692\n",
      "State/Province             0.000359\n",
      "Platform_Tax_Collection    0.527090\n",
      "Store_Discount             0.000000\n",
      "Phone_Number               0.409508\n",
      "Recipient_Name             0.000000\n",
      "Delivery_Country           0.000000\n",
      "Delivery Address           0.397146\n",
      "Shipping_Cost              0.000000\n",
      "Confirmation Time          0.166110\n",
      "Order_Notes                0.998452\n",
      "Order_Status               0.000000\n",
      "Order_Amount               0.000000\n",
      "Responsible_Person         0.000000\n",
      "Estimated_VAT              0.527090\n",
      "Contact_Number             0.399300\n",
      "Order_Number               0.000000\n",
      "Postal_Code                0.087676\n",
      "dtype: float64\n"
     ]
    }
   ],
   "source": [
    "#计算缺少值的比例\n",
    "# 首先计算每一列的缺失值数量   \n",
    "missing_counts = data.isnull().sum() \n",
    "# 然后计算总的行数  \n",
    "total_rows = data.shape[0]  \n",
    "# 计算缺失数据比例  \n",
    "missing_ratio = missing_counts / total_rows\n",
    "# 打印出每一列的缺失数据比例  \n",
    "print(missing_ratio)"
   ]
  },
  {
   "cell_type": "code",
   "execution_count": 10,
   "id": "ffd2bcfa",
   "metadata": {
    "execution": {
     "iopub.execute_input": "2024-04-12T07:13:53.042446Z",
     "iopub.status.busy": "2024-04-12T07:13:53.042071Z",
     "iopub.status.idle": "2024-04-12T07:13:53.055940Z",
     "shell.execute_reply": "2024-04-12T07:13:53.055119Z"
    },
    "papermill": {
     "duration": 0.025175,
     "end_time": "2024-04-12T07:13:53.057772",
     "exception": false,
     "start_time": "2024-04-12T07:13:53.032597",
     "status": "completed"
    },
    "tags": []
   },
   "outputs": [
    {
     "name": "stdout",
     "output_type": "stream",
     "text": [
      "      Platform_Tax_Collection Phone_Number  \\\n",
      "0                        平台已税   3703645418   \n",
      "1                        平台已税   6942012430   \n",
      "2                         NaN    537269999   \n",
      "3                         NaN   9268130528   \n",
      "4                        平台已税    652624597   \n",
      "...                       ...          ...   \n",
      "44568                    平台已税   3493815552   \n",
      "44569                    平台已税    607637233   \n",
      "44570                    平台已税    616147339   \n",
      "44571                     NaN   5521001979   \n",
      "44572                    平台已税    917219611   \n",
      "\n",
      "                                        Delivery Address Confirmation Time  \\\n",
      "0      Via C.Martignoni, 27 ALDENO、Trento、Trentino-Al...  2022-05-25 11:02   \n",
      "1                       Skouloudi M. 3、Gazi、Crete、Greece  2022-06-12 08:00   \n",
      "2                   HSEKMA 224 224、GINATON、ISRAEL、Israel  2022-05-29 00:42   \n",
      "3      Noviy Gorodok (Новый Городок), 32 69、Odincovo ...  2022-06-04 06:04   \n",
      "4      Pittsburghstraat 9、Rotterdam、Zuid Holland、Neth...  2022-05-16 13:07   \n",
      "...                                                  ...               ...   \n",
      "44568  via E. Perrone, 1 STERNATIA c/o Punto e Virgol...               NaN   \n",
      "44569        32 rue Lamartine、Versailles、Yvelines、France               NaN   \n",
      "44570  Calle del Monasterio de El Paular 124、Madrid、M...               NaN   \n",
      "44571  Luisa 82 302、Benito Juarez、Ciudad de Mexico、Me...               NaN   \n",
      "44572  Pretoki 11c、Sveti Ivan Zelina、Croatia、Croatia ...               NaN   \n",
      "\n",
      "      Order_Notes Estimated_VAT  Contact_Number  \n",
      "0             NaN      US $2.56            39.0  \n",
      "1             NaN      US $0.93            30.0  \n",
      "2             NaN           NaN           972.0  \n",
      "3             NaN           NaN             7.0  \n",
      "4             NaN      US $3.67            31.0  \n",
      "...           ...           ...             ...  \n",
      "44568         NaN      US $4.19            39.0  \n",
      "44569         NaN      US $8.26            33.0  \n",
      "44570         NaN      US $4.08            34.0  \n",
      "44571         NaN           NaN            52.0  \n",
      "44572         NaN      US $5.78           385.0  \n",
      "\n",
      "[44573 rows x 7 columns]\n"
     ]
    }
   ],
   "source": [
    "# 创建一个布尔序列，标记缺失值比例低于10%的列\n",
    "columns_to_drop = missing_ratio < 0.10 \n",
    "# 删除缺失值比例低于10%的行\n",
    "df_dropped = data.drop(columns_to_drop[columns_to_drop].index, axis=1)   \n",
    "  \n",
    "# 输出处理后的DataFrame  \n",
    "print(df_dropped)"
   ]
  },
  {
   "cell_type": "markdown",
   "id": "c538eb8c",
   "metadata": {
    "papermill": {
     "duration": 0.008194,
     "end_time": "2024-04-12T07:13:53.074952",
     "exception": false,
     "start_time": "2024-04-12T07:13:53.066758",
     "status": "completed"
    },
    "tags": []
   },
   "source": [
    "物流交付分析\n",
    "进行订单响应时长、订单发货时长、物流在途时间、订单交付时长 "
   ]
  },
  {
   "cell_type": "code",
   "execution_count": 11,
   "id": "bfbb2985",
   "metadata": {
    "execution": {
     "iopub.execute_input": "2024-04-12T07:13:53.093699Z",
     "iopub.status.busy": "2024-04-12T07:13:53.093367Z",
     "iopub.status.idle": "2024-04-12T07:14:15.052722Z",
     "shell.execute_reply": "2024-04-12T07:14:15.051797Z"
    },
    "papermill": {
     "duration": 21.971688,
     "end_time": "2024-04-12T07:14:15.055226",
     "exception": false,
     "start_time": "2024-04-12T07:13:53.083538",
     "status": "completed"
    },
    "tags": []
   },
   "outputs": [],
   "source": [
    "#步骤一：加载数据；\n",
    "data=pd.read_excel('/kaggle/input/smarthomedata/smarthome.xlsx')"
   ]
  },
  {
   "cell_type": "code",
   "execution_count": 12,
   "id": "e4a01981",
   "metadata": {
    "execution": {
     "iopub.execute_input": "2024-04-12T07:14:15.073872Z",
     "iopub.status.busy": "2024-04-12T07:14:15.073540Z",
     "iopub.status.idle": "2024-04-12T07:14:15.093643Z",
     "shell.execute_reply": "2024-04-12T07:14:15.092931Z"
    },
    "papermill": {
     "duration": 0.031511,
     "end_time": "2024-04-12T07:14:15.095446",
     "exception": false,
     "start_time": "2024-04-12T07:14:15.063935",
     "status": "completed"
    },
    "tags": []
   },
   "outputs": [
    {
     "data": {
      "text/html": [
       "<div>\n",
       "<style scoped>\n",
       "    .dataframe tbody tr th:only-of-type {\n",
       "        vertical-align: middle;\n",
       "    }\n",
       "\n",
       "    .dataframe tbody tr th {\n",
       "        vertical-align: top;\n",
       "    }\n",
       "\n",
       "    .dataframe thead th {\n",
       "        text-align: right;\n",
       "    }\n",
       "</style>\n",
       "<table border=\"1\" class=\"dataframe\">\n",
       "  <thead>\n",
       "    <tr style=\"text-align: right;\">\n",
       "      <th></th>\n",
       "      <th>下单时间</th>\n",
       "      <th>买家名称</th>\n",
       "      <th>买家选择物流</th>\n",
       "      <th>产品总金额</th>\n",
       "      <th>付款时间</th>\n",
       "      <th>发货时间</th>\n",
       "      <th>发货期限</th>\n",
       "      <th>商品信息</th>\n",
       "      <th>商品编码</th>\n",
       "      <th>地址</th>\n",
       "      <th>...</th>\n",
       "      <th>物流费用</th>\n",
       "      <th>确认收货时间</th>\n",
       "      <th>订单备注</th>\n",
       "      <th>订单状态</th>\n",
       "      <th>订单金额</th>\n",
       "      <th>负责人（业务员）</th>\n",
       "      <th>预计增值税</th>\n",
       "      <th>联系电话</th>\n",
       "      <th>订单号</th>\n",
       "      <th>邮编</th>\n",
       "    </tr>\n",
       "  </thead>\n",
       "  <tbody>\n",
       "    <tr>\n",
       "      <th>0</th>\n",
       "      <td>2022-04-30 09:13</td>\n",
       "      <td>Antonietta Giovannini</td>\n",
       "      <td>Seller's Shipping Method - ES</td>\n",
       "      <td>US $14.22</td>\n",
       "      <td>2022-04-30 09:13</td>\n",
       "      <td>2022-04-30 11:00</td>\n",
       "      <td>2022-05-10 09:13</td>\n",
       "      <td>【1】   Tuya Mini WiFi DIY Switch 16A 2 Way Cont...</td>\n",
       "      <td>ALMQIKBBSTjZ5N23N3D02899K3G_X0V18MJ0916-40Za3b...</td>\n",
       "      <td>Via C.Martignoni, 27 ALDENO</td>\n",
       "      <td>...</td>\n",
       "      <td>US $0.00</td>\n",
       "      <td>2022-05-25 11:02</td>\n",
       "      <td>NaN</td>\n",
       "      <td>交易完成</td>\n",
       "      <td>US $11.66</td>\n",
       "      <td>null null</td>\n",
       "      <td>US $2.56</td>\n",
       "      <td>39.0</td>\n",
       "      <td>3016602292206320</td>\n",
       "      <td>38060</td>\n",
       "    </tr>\n",
       "    <tr>\n",
       "      <th>1</th>\n",
       "      <td>2022-04-30 09:34</td>\n",
       "      <td>gioole user</td>\n",
       "      <td>Cainiao Super Economy Global</td>\n",
       "      <td>US $4.86</td>\n",
       "      <td>2022-04-30 09:35</td>\n",
       "      <td>2022-05-02 23:43</td>\n",
       "      <td>2022-05-10 09:35</td>\n",
       "      <td>【1】   RE5V1C 5V WiFi Smart Switch eWeLink Inch...</td>\n",
       "      <td>ALHNYM6640PZWNQ2S6E054V8Z1QQO0LF2YSEFDYR * 1</td>\n",
       "      <td>Skouloudi M. 3</td>\n",
       "      <td>...</td>\n",
       "      <td>US $0.00</td>\n",
       "      <td>2022-06-12 08:00</td>\n",
       "      <td>NaN</td>\n",
       "      <td>交易完成</td>\n",
       "      <td>US $3.88</td>\n",
       "      <td>null null</td>\n",
       "      <td>US $0.93</td>\n",
       "      <td>30.0</td>\n",
       "      <td>8149322817552550</td>\n",
       "      <td>NaN</td>\n",
       "    </tr>\n",
       "    <tr>\n",
       "      <th>2</th>\n",
       "      <td>2022-04-30 10:26</td>\n",
       "      <td>zachi zaizev</td>\n",
       "      <td>AliExpress Standard Shipping</td>\n",
       "      <td>US $16.72</td>\n",
       "      <td>2022-04-30 10:27</td>\n",
       "      <td>2022-05-02 02:03</td>\n",
       "      <td>2022-05-10 10:27</td>\n",
       "      <td>【1】   WiFi Temperature Humidity Sensor Indoor ...</td>\n",
       "      <td>ALXY4QIHKAbZGNL3Z4S3532126Z_Y0A1JMB0V1DY * 1</td>\n",
       "      <td>HSEKMA 224 224</td>\n",
       "      <td>...</td>\n",
       "      <td>US $0.00</td>\n",
       "      <td>2022-05-29 00:42</td>\n",
       "      <td>NaN</td>\n",
       "      <td>交易完成</td>\n",
       "      <td>US $16.72</td>\n",
       "      <td>null null</td>\n",
       "      <td>NaN</td>\n",
       "      <td>972.0</td>\n",
       "      <td>8149727178429630</td>\n",
       "      <td>7311000</td>\n",
       "    </tr>\n",
       "    <tr>\n",
       "      <th>3</th>\n",
       "      <td>2022-04-30 10:46</td>\n",
       "      <td>Artem Lushov</td>\n",
       "      <td>Seller's Shipping Method</td>\n",
       "      <td>US $12.36</td>\n",
       "      <td>2022-04-30 10:46</td>\n",
       "      <td>2022-05-04 21:08</td>\n",
       "      <td>2022-05-10 10:46</td>\n",
       "      <td>【1】   Tuya Alice Wifi Smart Switch, 16A 2Way M...</td>\n",
       "      <td>ALFRWIWJB8PZWNM26608G133X1TYQ4OW3CBNRLVG * 3</td>\n",
       "      <td>Noviy Gorodok (Новый Городок), 32 69</td>\n",
       "      <td>...</td>\n",
       "      <td>US $0.00</td>\n",
       "      <td>2022-06-04 06:04</td>\n",
       "      <td>NaN</td>\n",
       "      <td>交易完成</td>\n",
       "      <td>US $12.24</td>\n",
       "      <td>null null</td>\n",
       "      <td>NaN</td>\n",
       "      <td>7.0</td>\n",
       "      <td>5027762282620590</td>\n",
       "      <td>143074</td>\n",
       "    </tr>\n",
       "    <tr>\n",
       "      <th>4</th>\n",
       "      <td>2022-04-30 13:41</td>\n",
       "      <td>Raymond Abell</td>\n",
       "      <td>AliExpress Standard Shipping</td>\n",
       "      <td>US $17.55</td>\n",
       "      <td>2022-04-30 13:41</td>\n",
       "      <td>2022-05-02 02:03</td>\n",
       "      <td>2022-05-10 13:41</td>\n",
       "      <td>【1】   Tuya Door Window Opening Sensor Detector...</td>\n",
       "      <td>ALMYBTLA7QVZJNS395U429A704I_V0L10L8EK5OU * 3</td>\n",
       "      <td>Pittsburghstraat 9</td>\n",
       "      <td>...</td>\n",
       "      <td>US $3.59</td>\n",
       "      <td>2022-05-16 13:07</td>\n",
       "      <td>NaN</td>\n",
       "      <td>交易完成</td>\n",
       "      <td>US $17.47</td>\n",
       "      <td>null null</td>\n",
       "      <td>US $3.67</td>\n",
       "      <td>31.0</td>\n",
       "      <td>8149646547103460</td>\n",
       "      <td>NaN</td>\n",
       "    </tr>\n",
       "  </tbody>\n",
       "</table>\n",
       "<p>5 rows × 29 columns</p>\n",
       "</div>"
      ],
      "text/plain": [
       "               下单时间                   买家名称                         买家选择物流  \\\n",
       "0  2022-04-30 09:13  Antonietta Giovannini  Seller's Shipping Method - ES   \n",
       "1  2022-04-30 09:34            gioole user   Cainiao Super Economy Global   \n",
       "2  2022-04-30 10:26           zachi zaizev   AliExpress Standard Shipping   \n",
       "3  2022-04-30 10:46           Artem Lushov       Seller's Shipping Method   \n",
       "4  2022-04-30 13:41          Raymond Abell   AliExpress Standard Shipping   \n",
       "\n",
       "       产品总金额              付款时间              发货时间              发货期限  \\\n",
       "0  US $14.22  2022-04-30 09:13  2022-04-30 11:00  2022-05-10 09:13   \n",
       "1   US $4.86  2022-04-30 09:35  2022-05-02 23:43  2022-05-10 09:35   \n",
       "2  US $16.72  2022-04-30 10:27  2022-05-02 02:03  2022-05-10 10:27   \n",
       "3  US $12.36  2022-04-30 10:46  2022-05-04 21:08  2022-05-10 10:46   \n",
       "4  US $17.55  2022-04-30 13:41  2022-05-02 02:03  2022-05-10 13:41   \n",
       "\n",
       "                                                商品信息  \\\n",
       "0  【1】   Tuya Mini WiFi DIY Switch 16A 2 Way Cont...   \n",
       "1  【1】   RE5V1C 5V WiFi Smart Switch eWeLink Inch...   \n",
       "2  【1】   WiFi Temperature Humidity Sensor Indoor ...   \n",
       "3  【1】   Tuya Alice Wifi Smart Switch, 16A 2Way M...   \n",
       "4  【1】   Tuya Door Window Opening Sensor Detector...   \n",
       "\n",
       "                                                商品编码  \\\n",
       "0  ALMQIKBBSTjZ5N23N3D02899K3G_X0V18MJ0916-40Za3b...   \n",
       "1       ALHNYM6640PZWNQ2S6E054V8Z1QQO0LF2YSEFDYR * 1   \n",
       "2       ALXY4QIHKAbZGNL3Z4S3532126Z_Y0A1JMB0V1DY * 1   \n",
       "3       ALFRWIWJB8PZWNM26608G133X1TYQ4OW3CBNRLVG * 3   \n",
       "4       ALMYBTLA7QVZJNS395U429A704I_V0L10L8EK5OU * 3   \n",
       "\n",
       "                                     地址  ...      物流费用            确认收货时间 订单备注  \\\n",
       "0           Via C.Martignoni, 27 ALDENO  ...  US $0.00  2022-05-25 11:02  NaN   \n",
       "1                        Skouloudi M. 3  ...  US $0.00  2022-06-12 08:00  NaN   \n",
       "2                        HSEKMA 224 224  ...  US $0.00  2022-05-29 00:42  NaN   \n",
       "3  Noviy Gorodok (Новый Городок), 32 69  ...  US $0.00  2022-06-04 06:04  NaN   \n",
       "4                    Pittsburghstraat 9  ...  US $3.59  2022-05-16 13:07  NaN   \n",
       "\n",
       "   订单状态       订单金额   负责人（业务员）     预计增值税   联系电话               订单号       邮编  \n",
       "0  交易完成  US $11.66  null null  US $2.56   39.0  3016602292206320    38060  \n",
       "1  交易完成   US $3.88  null null  US $0.93   30.0  8149322817552550      NaN  \n",
       "2  交易完成  US $16.72  null null       NaN  972.0  8149727178429630  7311000  \n",
       "3  交易完成  US $12.24  null null       NaN    7.0  5027762282620590   143074  \n",
       "4  交易完成  US $17.47  null null  US $3.67   31.0  8149646547103460      NaN  \n",
       "\n",
       "[5 rows x 29 columns]"
      ]
     },
     "execution_count": 12,
     "metadata": {},
     "output_type": "execute_result"
    }
   ],
   "source": [
    "data.head(5)"
   ]
  },
  {
   "cell_type": "markdown",
   "id": "4030dda9",
   "metadata": {
    "papermill": {
     "duration": 0.00881,
     "end_time": "2024-04-12T07:14:15.113210",
     "exception": false,
     "start_time": "2024-04-12T07:14:15.104400",
     "status": "completed"
    },
    "tags": []
   },
   "source": [
    "步骤二：数据清洗和预处理\n",
    "在进行分析之前，你可能需要清洗和预处理数据，例如处理缺失值、转换数据类型等。"
   ]
  },
  {
   "cell_type": "code",
   "execution_count": 13,
   "id": "2b5bfde7",
   "metadata": {
    "execution": {
     "iopub.execute_input": "2024-04-12T07:14:15.132861Z",
     "iopub.status.busy": "2024-04-12T07:14:15.132040Z",
     "iopub.status.idle": "2024-04-12T07:14:15.324183Z",
     "shell.execute_reply": "2024-04-12T07:14:15.323177Z"
    },
    "papermill": {
     "duration": 0.204132,
     "end_time": "2024-04-12T07:14:15.326156",
     "exception": false,
     "start_time": "2024-04-12T07:14:15.122024",
     "status": "completed"
    },
    "tags": []
   },
   "outputs": [
    {
     "name": "stdout",
     "output_type": "stream",
     "text": [
      "下单时间            0\n",
      "买家名称            2\n",
      "买家选择物流          0\n",
      "产品总金额           0\n",
      "付款时间         3113\n",
      "发货时间         4087\n",
      "发货期限            4\n",
      "商品信息            0\n",
      "商品编码            1\n",
      "地址              0\n",
      "城市              0\n",
      "实际发货单号       4087\n",
      "州/省            16\n",
      "平台是否代征代缴    23494\n",
      "店铺优惠            0\n",
      "手机          18253\n",
      "收件人名称           0\n",
      "收货国家            0\n",
      "收货地址        17702\n",
      "物流费用            0\n",
      "确认收货时间       7404\n",
      "订单备注        44504\n",
      "订单状态            0\n",
      "订单金额            0\n",
      "负责人（业务员）        0\n",
      "预计增值税       23494\n",
      "联系电话        17798\n",
      "订单号             0\n",
      "邮编           3908\n",
      "dtype: int64\n"
     ]
    }
   ],
   "source": [
    "# 检查缺失值  \n",
    "print(data.isnull().sum())  \n",
    "  \n",
    "# 根据需要处理缺失值，例如填充或删除含有缺失值的行  \n",
    "data.dropna(inplace=True)  # 示例：删除含有缺失值的行  \n",
    "  \n",
    "# 确保时间相关的列是日期时间格式  \n",
    "data['下单时间'] = pd.to_datetime(data['下单时间'])  \n",
    "data['付款时间'] = pd.to_datetime(data['付款时间'])  \n",
    "data['发货时间'] = pd.to_datetime(data['发货时间'])  \n",
    "data['确认收货时间'] = pd.to_datetime(data['确认收货时间'])"
   ]
  },
  {
   "cell_type": "markdown",
   "id": "e820a3ba",
   "metadata": {
    "papermill": {
     "duration": 0.00838,
     "end_time": "2024-04-12T07:14:15.343593",
     "exception": false,
     "start_time": "2024-04-12T07:14:15.335213",
     "status": "completed"
    },
    "tags": []
   },
   "source": [
    "步骤三：计算订单响应时长、发货时长、物流在途时间和订单交付时长"
   ]
  },
  {
   "cell_type": "code",
   "execution_count": 14,
   "id": "7d78485a",
   "metadata": {
    "execution": {
     "iopub.execute_input": "2024-04-12T07:14:15.362832Z",
     "iopub.status.busy": "2024-04-12T07:14:15.362273Z",
     "iopub.status.idle": "2024-04-12T07:14:15.370143Z",
     "shell.execute_reply": "2024-04-12T07:14:15.369062Z"
    },
    "papermill": {
     "duration": 0.020307,
     "end_time": "2024-04-12T07:14:15.372703",
     "exception": false,
     "start_time": "2024-04-12T07:14:15.352396",
     "status": "completed"
    },
    "tags": []
   },
   "outputs": [],
   "source": [
    "# 计算订单响应时长（下单时间到付款时间）  \n",
    "data['订单响应时长'] = (data['付款时间'] - data['下单时间']).dt.total_seconds() / 60  # 转换为分钟  "
   ]
  },
  {
   "cell_type": "code",
   "execution_count": 15,
   "id": "59b326d9",
   "metadata": {
    "execution": {
     "iopub.execute_input": "2024-04-12T07:14:15.392899Z",
     "iopub.status.busy": "2024-04-12T07:14:15.392554Z",
     "iopub.status.idle": "2024-04-12T07:14:15.402327Z",
     "shell.execute_reply": "2024-04-12T07:14:15.401039Z"
    },
    "papermill": {
     "duration": 0.022188,
     "end_time": "2024-04-12T07:14:15.404510",
     "exception": false,
     "start_time": "2024-04-12T07:14:15.382322",
     "status": "completed"
    },
    "tags": []
   },
   "outputs": [],
   "source": [
    "# 计算订单发货时长（付款时间到发货时间）  \n",
    "data['订单发货时长'] = (data['发货时间'] - data['付款时间']).dt.total_seconds() / 60  # 转换为分钟  \n",
    "  \n",
    "# 计算物流在途时间（发货时间到确认收货时间）  \n",
    "data['物流在途时间'] = (data['确认收货时间'] - data['发货时间']).dt.total_seconds() / 60  # 转换为分钟  \n",
    "  \n",
    "# 计算订单交付时长（下单时间到确认收货时间）  \n",
    "data['订单交付时长'] = (data['确认收货时间'] - data['下单时间']).dt.total_seconds() / 60  # 转换为分钟\n"
   ]
  },
  {
   "cell_type": "markdown",
   "id": "54414382",
   "metadata": {
    "papermill": {
     "duration": 0.008618,
     "end_time": "2024-04-12T07:14:15.422470",
     "exception": false,
     "start_time": "2024-04-12T07:14:15.413852",
     "status": "completed"
    },
    "tags": []
   },
   "source": [
    "步骤四：进行统计分析\n",
    "现在你可以对计算出的时长进行统计分析，例如计算平均值、中位数、标准差等。"
   ]
  },
  {
   "cell_type": "code",
   "execution_count": 16,
   "id": "351b1985",
   "metadata": {
    "execution": {
     "iopub.execute_input": "2024-04-12T07:14:15.442512Z",
     "iopub.status.busy": "2024-04-12T07:14:15.441399Z",
     "iopub.status.idle": "2024-04-12T07:14:15.446792Z",
     "shell.execute_reply": "2024-04-12T07:14:15.445978Z"
    },
    "papermill": {
     "duration": 0.017062,
     "end_time": "2024-04-12T07:14:15.448610",
     "exception": false,
     "start_time": "2024-04-12T07:14:15.431548",
     "status": "completed"
    },
    "tags": []
   },
   "outputs": [
    {
     "name": "stdout",
     "output_type": "stream",
     "text": [
      "平均订单响应时长: 0.17 分钟\n"
     ]
    }
   ],
   "source": [
    "# 计算平均订单响应时长  \n",
    "avg_response_time = data['订单响应时长'].mean()  \n",
    "print(f\"平均订单响应时长: {avg_response_time:.2f} 分钟\")  \n",
    "  "
   ]
  },
  {
   "cell_type": "code",
   "execution_count": 17,
   "id": "4a884081",
   "metadata": {
    "execution": {
     "iopub.execute_input": "2024-04-12T07:14:15.468017Z",
     "iopub.status.busy": "2024-04-12T07:14:15.467697Z",
     "iopub.status.idle": "2024-04-12T07:14:15.473745Z",
     "shell.execute_reply": "2024-04-12T07:14:15.472558Z"
    },
    "papermill": {
     "duration": 0.01782,
     "end_time": "2024-04-12T07:14:15.475536",
     "exception": false,
     "start_time": "2024-04-12T07:14:15.457716",
     "status": "completed"
    },
    "tags": []
   },
   "outputs": [
    {
     "name": "stdout",
     "output_type": "stream",
     "text": [
      "平均订单发货时长: 1866.25 分钟\n"
     ]
    }
   ],
   "source": [
    "# 计算平均订单发货时长  \n",
    "avg_shipping_time = data['订单发货时长'].mean()  \n",
    "print(f\"平均订单发货时长: {avg_shipping_time:.2f} 分钟\") "
   ]
  },
  {
   "cell_type": "code",
   "execution_count": 18,
   "id": "0000feb5",
   "metadata": {
    "execution": {
     "iopub.execute_input": "2024-04-12T07:14:15.494712Z",
     "iopub.status.busy": "2024-04-12T07:14:15.494353Z",
     "iopub.status.idle": "2024-04-12T07:14:15.500396Z",
     "shell.execute_reply": "2024-04-12T07:14:15.499337Z"
    },
    "papermill": {
     "duration": 0.017793,
     "end_time": "2024-04-12T07:14:15.502501",
     "exception": false,
     "start_time": "2024-04-12T07:14:15.484708",
     "status": "completed"
    },
    "tags": []
   },
   "outputs": [
    {
     "name": "stdout",
     "output_type": "stream",
     "text": [
      "平均物流在途时间: 23801.42 分钟\n"
     ]
    }
   ],
   "source": [
    "# 计算平均物流在途时间  \n",
    "avg_transit_time = data['物流在途时间'].mean()  \n",
    "print(f\"平均物流在途时间: {avg_transit_time:.2f} 分钟\")  "
   ]
  },
  {
   "cell_type": "code",
   "execution_count": 19,
   "id": "3f8b6f6a",
   "metadata": {
    "execution": {
     "iopub.execute_input": "2024-04-12T07:14:15.523012Z",
     "iopub.status.busy": "2024-04-12T07:14:15.522693Z",
     "iopub.status.idle": "2024-04-12T07:14:15.528168Z",
     "shell.execute_reply": "2024-04-12T07:14:15.527047Z"
    },
    "papermill": {
     "duration": 0.018249,
     "end_time": "2024-04-12T07:14:15.530166",
     "exception": false,
     "start_time": "2024-04-12T07:14:15.511917",
     "status": "completed"
    },
    "tags": []
   },
   "outputs": [
    {
     "name": "stdout",
     "output_type": "stream",
     "text": [
      "平均订单交付时长: 25667.83 分钟\n"
     ]
    }
   ],
   "source": [
    "# 计算平均订单交付时长  \n",
    "avg_delivery_time = data['订单交付时长'].mean()  \n",
    "print(f\"平均订单交付时长: {avg_delivery_time:.2f} 分钟\")"
   ]
  },
  {
   "cell_type": "markdown",
   "id": "e68cc936",
   "metadata": {
    "papermill": {
     "duration": 0.008551,
     "end_time": "2024-04-12T07:14:15.548080",
     "exception": false,
     "start_time": "2024-04-12T07:14:15.539529",
     "status": "completed"
    },
    "tags": []
   },
   "source": [
    "以使用describe()函数来快速获取这些时长的统计摘要"
   ]
  },
  {
   "cell_type": "code",
   "execution_count": 20,
   "id": "80d6c16a",
   "metadata": {
    "execution": {
     "iopub.execute_input": "2024-04-12T07:14:15.567351Z",
     "iopub.status.busy": "2024-04-12T07:14:15.567048Z",
     "iopub.status.idle": "2024-04-12T07:14:15.583474Z",
     "shell.execute_reply": "2024-04-12T07:14:15.582651Z"
    },
    "papermill": {
     "duration": 0.028504,
     "end_time": "2024-04-12T07:14:15.585460",
     "exception": false,
     "start_time": "2024-04-12T07:14:15.556956",
     "status": "completed"
    },
    "tags": []
   },
   "outputs": [
    {
     "name": "stdout",
     "output_type": "stream",
     "text": [
      "count    12.000000\n",
      "mean      0.166667\n",
      "std       0.389249\n",
      "min       0.000000\n",
      "25%       0.000000\n",
      "50%       0.000000\n",
      "75%       0.000000\n",
      "max       1.000000\n",
      "Name: 订单响应时长, dtype: float64\n",
      "count      12.000000\n",
      "mean     1866.250000\n",
      "std       937.574252\n",
      "min       516.000000\n",
      "25%      1006.250000\n",
      "50%      2044.500000\n",
      "75%      2553.000000\n",
      "max      3408.000000\n",
      "Name: 订单发货时长, dtype: float64\n",
      "count       12.000000\n",
      "mean     23801.416667\n",
      "std       8415.092291\n",
      "min      11533.000000\n",
      "25%      16392.750000\n",
      "50%      25515.000000\n",
      "75%      28255.250000\n",
      "max      36163.000000\n",
      "Name: 物流在途时间, dtype: float64\n",
      "count       12.000000\n",
      "mean     25667.833333\n",
      "std       8389.352373\n",
      "min      13713.000000\n",
      "25%      17486.500000\n",
      "50%      27132.000000\n",
      "75%      29718.750000\n",
      "max      39409.000000\n",
      "Name: 订单交付时长, dtype: float64\n"
     ]
    }
   ],
   "source": [
    "# 获取订单响应时长的统计摘要  \n",
    "print(data['订单响应时长'].describe())  \n",
    "  \n",
    "# 获取订单发货时长的统计摘要  \n",
    "print(data['订单发货时长'].describe())  \n",
    "  \n",
    "# 获取物流在途时间的统计摘要  \n",
    "print(data['物流在途时间'].describe())  \n",
    "  \n",
    "# 获取订单交付时长的统计摘要  \n",
    "print(data['订单交付时长'].describe())\n"
   ]
  },
  {
   "cell_type": "markdown",
   "id": "6beef04d",
   "metadata": {
    "papermill": {
     "duration": 0.008666,
     "end_time": "2024-04-12T07:14:15.603485",
     "exception": false,
     "start_time": "2024-04-12T07:14:15.594819",
     "status": "completed"
    },
    "tags": []
   },
   "source": [
    "步骤五：可视化分析\n",
    "你还可以使用matplotlib或seaborn等库来可视化这些时长的分布情况"
   ]
  },
  {
   "cell_type": "code",
   "execution_count": 21,
   "id": "5bb74bc3",
   "metadata": {
    "execution": {
     "iopub.execute_input": "2024-04-12T07:14:15.622576Z",
     "iopub.status.busy": "2024-04-12T07:14:15.622229Z",
     "iopub.status.idle": "2024-04-12T07:14:15.853009Z",
     "shell.execute_reply": "2024-04-12T07:14:15.851998Z"
    },
    "papermill": {
     "duration": 0.24245,
     "end_time": "2024-04-12T07:14:15.854792",
     "exception": false,
     "start_time": "2024-04-12T07:14:15.612342",
     "status": "completed"
    },
    "tags": []
   },
   "outputs": [
    {
     "name": "stderr",
     "output_type": "stream",
     "text": [
      "/opt/conda/lib/python3.10/site-packages/IPython/core/pylabtools.py:152: UserWarning: Glyph 39057 (\\N{CJK UNIFIED IDEOGRAPH-9891}) missing from current font.\n",
      "  fig.canvas.print_figure(bytes_io, **kw)\n",
      "/opt/conda/lib/python3.10/site-packages/IPython/core/pylabtools.py:152: UserWarning: Glyph 25968 (\\N{CJK UNIFIED IDEOGRAPH-6570}) missing from current font.\n",
      "  fig.canvas.print_figure(bytes_io, **kw)\n",
      "/opt/conda/lib/python3.10/site-packages/IPython/core/pylabtools.py:152: UserWarning: Glyph 35746 (\\N{CJK UNIFIED IDEOGRAPH-8BA2}) missing from current font.\n",
      "  fig.canvas.print_figure(bytes_io, **kw)\n",
      "/opt/conda/lib/python3.10/site-packages/IPython/core/pylabtools.py:152: UserWarning: Glyph 21333 (\\N{CJK UNIFIED IDEOGRAPH-5355}) missing from current font.\n",
      "  fig.canvas.print_figure(bytes_io, **kw)\n",
      "/opt/conda/lib/python3.10/site-packages/IPython/core/pylabtools.py:152: UserWarning: Glyph 21709 (\\N{CJK UNIFIED IDEOGRAPH-54CD}) missing from current font.\n",
      "  fig.canvas.print_figure(bytes_io, **kw)\n",
      "/opt/conda/lib/python3.10/site-packages/IPython/core/pylabtools.py:152: UserWarning: Glyph 24212 (\\N{CJK UNIFIED IDEOGRAPH-5E94}) missing from current font.\n",
      "  fig.canvas.print_figure(bytes_io, **kw)\n",
      "/opt/conda/lib/python3.10/site-packages/IPython/core/pylabtools.py:152: UserWarning: Glyph 26102 (\\N{CJK UNIFIED IDEOGRAPH-65F6}) missing from current font.\n",
      "  fig.canvas.print_figure(bytes_io, **kw)\n",
      "/opt/conda/lib/python3.10/site-packages/IPython/core/pylabtools.py:152: UserWarning: Glyph 38271 (\\N{CJK UNIFIED IDEOGRAPH-957F}) missing from current font.\n",
      "  fig.canvas.print_figure(bytes_io, **kw)\n",
      "/opt/conda/lib/python3.10/site-packages/IPython/core/pylabtools.py:152: UserWarning: Glyph 20998 (\\N{CJK UNIFIED IDEOGRAPH-5206}) missing from current font.\n",
      "  fig.canvas.print_figure(bytes_io, **kw)\n",
      "/opt/conda/lib/python3.10/site-packages/IPython/core/pylabtools.py:152: UserWarning: Glyph 24067 (\\N{CJK UNIFIED IDEOGRAPH-5E03}) missing from current font.\n",
      "  fig.canvas.print_figure(bytes_io, **kw)\n",
      "/opt/conda/lib/python3.10/site-packages/IPython/core/pylabtools.py:152: UserWarning: Glyph 38047 (\\N{CJK UNIFIED IDEOGRAPH-949F}) missing from current font.\n",
      "  fig.canvas.print_figure(bytes_io, **kw)\n"
     ]
    },
    {
     "data": {
      "image/png": "[encoded data removed]",
      "text/plain": [
       "<Figure size 640x480 with 1 Axes>"
      ]
     },
     "metadata": {},
     "output_type": "display_data"
    }
   ],
   "source": [
    "import matplotlib.pyplot as plt  \n",
    "  \n",
    "# 绘制订单响应时长的直方图  \n",
    "plt.hist(data['订单响应时长'], bins=30, edgecolor='black')  \n",
    "plt.title('订单响应时长分布')  \n",
    "plt.xlabel('时长 (分钟)')  \n",
    "plt.ylabel('频数')  \n",
    "plt.show()  \n",
    "  \n",
    "# 你也可以对其他时长进行类似的可视化分析"
   ]
  },
  {
   "cell_type": "code",
   "execution_count": 22,
   "id": "27139ee6",
   "metadata": {
    "execution": {
     "iopub.execute_input": "2024-04-12T07:14:15.876595Z",
     "iopub.status.busy": "2024-04-12T07:14:15.875485Z",
     "iopub.status.idle": "2024-04-12T07:14:15.891986Z",
     "shell.execute_reply": "2024-04-12T07:14:15.890734Z"
    },
    "papermill": {
     "duration": 0.02935,
     "end_time": "2024-04-12T07:14:15.894083",
     "exception": false,
     "start_time": "2024-04-12T07:14:15.864733",
     "status": "completed"
    },
    "tags": []
   },
   "outputs": [
    {
     "name": "stdout",
     "output_type": "stream",
     "text": [
      "   下单月份    订单响应时长       订单发货时长    物流在途时间    订单交付时长\n",
      "0     2  0.000000  1808.000000  28606.50  30414.50\n",
      "1     3  0.166667  1756.333333  28852.50  30609.00\n",
      "2     4  0.250000  2060.250000  13822.25  15882.75\n"
     ]
    }
   ],
   "source": [
    "#按月份分析订单时长\n",
    "# 提取月份信息  \n",
    "data['下单月份'] = data['下单时间'].dt.month  \n",
    "  \n",
    "# 按月份分组并计算平均时长  \n",
    "monthly_avg_times = data.groupby('下单月份').agg({  \n",
    "    '订单响应时长': 'mean',  \n",
    "    '订单发货时长': 'mean',  \n",
    "    '物流在途时间': 'mean',  \n",
    "    '订单交付时长': 'mean'  \n",
    "}).reset_index()  \n",
    "  \n",
    "# 显示结果  \n",
    "print(monthly_avg_times)"
   ]
  },
  {
   "cell_type": "markdown",
   "id": "30c666b6",
   "metadata": {
    "papermill": {
     "duration": 0.010374,
     "end_time": "2024-04-12T07:14:15.914305",
     "exception": false,
     "start_time": "2024-04-12T07:14:15.903931",
     "status": "completed"
    },
    "tags": []
   },
   "source": [
    "按商品分析订单时长\n",
    "如果数据中包含商品信息，我们可以按商品名称对订单进行分组，并计算每个商品的平均订单响应时长、发货时长、物流在途时间和订单交付时长。"
   ]
  },
  {
   "cell_type": "code",
   "execution_count": 23,
   "id": "a6dc3ac2",
   "metadata": {
    "execution": {
     "iopub.execute_input": "2024-04-12T07:14:15.935414Z",
     "iopub.status.busy": "2024-04-12T07:14:15.935093Z",
     "iopub.status.idle": "2024-04-12T07:14:15.949200Z",
     "shell.execute_reply": "2024-04-12T07:14:15.948344Z"
    },
    "papermill": {
     "duration": 0.027359,
     "end_time": "2024-04-12T07:14:15.951460",
     "exception": false,
     "start_time": "2024-04-12T07:14:15.924101",
     "status": "completed"
    },
    "tags": []
   },
   "outputs": [
    {
     "name": "stdout",
     "output_type": "stream",
     "text": [
      "                                                 商品编码  订单响应时长  订单发货时长  \\\n",
      "0        AL2PNI8W0KbZINU3M4H4J8H5O5N_80T1JME0M2HN * 1     0.0  2721.0   \n",
      "1        AL39JWPF0IbZ0NG35793H13441B_X061SMT0Y49H * 1     1.0   968.0   \n",
      "2        AL8VBO8FAPbZKN13K727R253W7Y_M0G10MB077XC * 1     0.0  1909.0   \n",
      "3        AL9WT6L2KKbZ8NK3T7B3G1I8G62_40I1NMU073JM * 1     0.0  2180.0   \n",
      "4        ALDTG8G0J8VZ6NY3P6T648I7T7A_F0A1QFNNO70B * 2     0.0   870.0   \n",
      "5        ALJGL42YR5VZENV3F4Q4U8E5L51_G0X1FTV07JXT * 1     0.0  1019.0   \n",
      "6   ALJK7YVAVMVZENR3F7A3G1R4410_U0F1TM89XBJ7 * 1;A...     0.0  1119.0   \n",
      "7        ALL557ZS31bZFN7387I7R2J3I7G_3091XMG0M28Q * 1     0.0  3408.0   \n",
      "8        ALO14B0VGSbZYN4317P0U5W7M1N_B0W1LM9082DB * 1     0.0  2824.0   \n",
      "9        ALTLHQ8NSPVZMNG3K7C7W2F3Q7H_T0J1YHVBTBPC * 2     1.0   516.0   \n",
      "10       ALTS1GY8C1VZ7N73J770052781Y_O0Q1137TXBVI * 1     0.0  2364.0   \n",
      "11       ALXFMHYZH0VZTNT3C7Q301T4S1U_X021WQ6S4G5B * 1     0.0  2497.0   \n",
      "\n",
      "     物流在途时间   订单交付时长  \n",
      "0   12395.0  15116.0  \n",
      "1   36163.0  37132.0  \n",
      "2   26364.0  28273.0  \n",
      "3   11533.0  13713.0  \n",
      "4   26247.0  27117.0  \n",
      "5   23557.0  24576.0  \n",
      "6   27904.0  29023.0  \n",
      "7   36001.0  39409.0  \n",
      "8   14256.0  17080.0  \n",
      "9   17105.0  17622.0  \n",
      "10  24783.0  27147.0  \n",
      "11  29309.0  31806.0  \n"
     ]
    }
   ],
   "source": [
    "merchant_avg_times = data.groupby('商品编码').agg({  \n",
    "    '订单响应时长': 'mean',  \n",
    "    '订单发货时长': 'mean',  \n",
    "    '物流在途时间': 'mean',  \n",
    "    '订单交付时长': 'mean'  \n",
    "}).reset_index()  \n",
    "  \n",
    "# 显示结果  \n",
    "print(merchant_avg_times)"
   ]
  },
  {
   "cell_type": "markdown",
   "id": "adb8c293",
   "metadata": {
    "papermill": {
     "duration": 0.009175,
     "end_time": "2024-04-12T07:14:15.970402",
     "exception": false,
     "start_time": "2024-04-12T07:14:15.961227",
     "status": "completed"
    },
    "tags": []
   },
   "source": [
    "分析订单延期交付时长\n",
    "为了分析订单延期交付时长，我们首先需要定义什么是“延期交付”。一种常见的定义是订单交付时间超过了某个预定的时间限制。我们可以根据确认收货时间和发货时间加上一个预定的发货期限来计算延期交付的时长。"
   ]
  },
  {
   "cell_type": "code",
   "execution_count": 24,
   "id": "b83b6807",
   "metadata": {
    "execution": {
     "iopub.execute_input": "2024-04-12T07:14:15.991393Z",
     "iopub.status.busy": "2024-04-12T07:14:15.990833Z",
     "iopub.status.idle": "2024-04-12T07:14:16.013659Z",
     "shell.execute_reply": "2024-04-12T07:14:16.012825Z"
    },
    "papermill": {
     "duration": 0.035214,
     "end_time": "2024-04-12T07:14:16.015294",
     "exception": false,
     "start_time": "2024-04-12T07:14:15.980080",
     "status": "completed"
    },
    "tags": []
   },
   "outputs": [
    {
     "data": {
      "text/html": [
       "<div>\n",
       "<style scoped>\n",
       "    .dataframe tbody tr th:only-of-type {\n",
       "        vertical-align: middle;\n",
       "    }\n",
       "\n",
       "    .dataframe tbody tr th {\n",
       "        vertical-align: top;\n",
       "    }\n",
       "\n",
       "    .dataframe thead th {\n",
       "        text-align: right;\n",
       "    }\n",
       "</style>\n",
       "<table border=\"1\" class=\"dataframe\">\n",
       "  <thead>\n",
       "    <tr style=\"text-align: right;\">\n",
       "      <th></th>\n",
       "      <th>下单时间</th>\n",
       "      <th>买家名称</th>\n",
       "      <th>买家选择物流</th>\n",
       "      <th>产品总金额</th>\n",
       "      <th>付款时间</th>\n",
       "      <th>发货时间</th>\n",
       "      <th>发货期限</th>\n",
       "      <th>商品信息</th>\n",
       "      <th>商品编码</th>\n",
       "      <th>地址</th>\n",
       "      <th>...</th>\n",
       "      <th>负责人（业务员）</th>\n",
       "      <th>预计增值税</th>\n",
       "      <th>联系电话</th>\n",
       "      <th>订单号</th>\n",
       "      <th>邮编</th>\n",
       "      <th>订单响应时长</th>\n",
       "      <th>订单发货时长</th>\n",
       "      <th>物流在途时间</th>\n",
       "      <th>订单交付时长</th>\n",
       "      <th>下单月份</th>\n",
       "    </tr>\n",
       "  </thead>\n",
       "  <tbody>\n",
       "    <tr>\n",
       "      <th>25415</th>\n",
       "      <td>2023-02-01 23:56:00</td>\n",
       "      <td>Rafal Cz</td>\n",
       "      <td>Cainiao Super Economy Global\\nAliExpress Stand...</td>\n",
       "      <td>US $11.61</td>\n",
       "      <td>2023-02-01 23:56:00</td>\n",
       "      <td>2023-02-02 18:35:00</td>\n",
       "      <td>2023-02-12 23:56</td>\n",
       "      <td>【1】   Tuya Smart WiFi Door Sensor Smart Door O...</td>\n",
       "      <td>ALJK7YVAVMVZENR3F7A3G1R4410_U0F1TM89XBJ7 * 1;A...</td>\n",
       "      <td>Bystra Podhalanska 129</td>\n",
       "      <td>...</td>\n",
       "      <td>null null</td>\n",
       "      <td>US $2.15</td>\n",
       "      <td>48.0</td>\n",
       "      <td>8161845366714070</td>\n",
       "      <td>34235</td>\n",
       "      <td>0.0</td>\n",
       "      <td>1119.0</td>\n",
       "      <td>27904.0</td>\n",
       "      <td>29023.0</td>\n",
       "      <td>2</td>\n",
       "    </tr>\n",
       "    <tr>\n",
       "      <th>31237</th>\n",
       "      <td>2023-02-25 10:29:00</td>\n",
       "      <td>Gregor Pavlic</td>\n",
       "      <td>AliExpress Standard Shipping</td>\n",
       "      <td>US $5.84</td>\n",
       "      <td>2023-02-25 10:29:00</td>\n",
       "      <td>2023-02-27 04:06:00</td>\n",
       "      <td>2023-03-07 10:29</td>\n",
       "      <td>【1】   Tuya WiFi Smart Door Sensor Door Open Cl...</td>\n",
       "      <td>ALXFMHYZH0VZTNT3C7Q301T4S1U_X021WQ6S4G5B * 1</td>\n",
       "      <td>Podkum 80</td>\n",
       "      <td>...</td>\n",
       "      <td>null null</td>\n",
       "      <td>US $1.04</td>\n",
       "      <td>386.0</td>\n",
       "      <td>8163079144421370</td>\n",
       "      <td>1414</td>\n",
       "      <td>0.0</td>\n",
       "      <td>2497.0</td>\n",
       "      <td>29309.0</td>\n",
       "      <td>31806.0</td>\n",
       "      <td>2</td>\n",
       "    </tr>\n",
       "    <tr>\n",
       "      <th>35087</th>\n",
       "      <td>2023-03-13 10:23:00</td>\n",
       "      <td>Alberto Molina</td>\n",
       "      <td>Aliexpress Selection Standard</td>\n",
       "      <td>US $29.84</td>\n",
       "      <td>2023-03-13 10:24:00</td>\n",
       "      <td>2023-03-14 02:32:00</td>\n",
       "      <td>2023-03-22 10:24</td>\n",
       "      <td>【1】   Tuya WiFi Smart Door Sensor Door Open Cl...</td>\n",
       "      <td>AL39JWPF0IbZ0NG35793H13441B_X061SMT0Y49H * 1</td>\n",
       "      <td>Calle Batán 31</td>\n",
       "      <td>...</td>\n",
       "      <td>null null</td>\n",
       "      <td>US $5.13</td>\n",
       "      <td>34.0</td>\n",
       "      <td>3021965878777330</td>\n",
       "      <td>2210</td>\n",
       "      <td>1.0</td>\n",
       "      <td>968.0</td>\n",
       "      <td>36163.0</td>\n",
       "      <td>37132.0</td>\n",
       "      <td>3</td>\n",
       "    </tr>\n",
       "    <tr>\n",
       "      <th>36694</th>\n",
       "      <td>2023-03-20 05:57:00</td>\n",
       "      <td>Gregor Pavlic</td>\n",
       "      <td>Aliexpress Selection Saver</td>\n",
       "      <td>US $6.09</td>\n",
       "      <td>2023-03-20 05:57:00</td>\n",
       "      <td>2023-03-21 21:21:00</td>\n",
       "      <td>2023-03-29 05:57</td>\n",
       "      <td>【1】   ZigBee Door Window Sensor Detector Tuya ...</td>\n",
       "      <td>ALTS1GY8C1VZ7N73J770052781Y_O0Q1137TXBVI * 1</td>\n",
       "      <td>Podkum 80</td>\n",
       "      <td>...</td>\n",
       "      <td>null null</td>\n",
       "      <td>US $1.09</td>\n",
       "      <td>386.0</td>\n",
       "      <td>8164410900441370</td>\n",
       "      <td>1414</td>\n",
       "      <td>0.0</td>\n",
       "      <td>2364.0</td>\n",
       "      <td>24783.0</td>\n",
       "      <td>27147.0</td>\n",
       "      <td>3</td>\n",
       "    </tr>\n",
       "    <tr>\n",
       "      <th>37089</th>\n",
       "      <td>2023-03-21 09:31:00</td>\n",
       "      <td>Gregor Pavlic</td>\n",
       "      <td>Aliexpress Selection Standard</td>\n",
       "      <td>US $9.75</td>\n",
       "      <td>2023-03-21 09:31:00</td>\n",
       "      <td>2023-03-22 02:30:00</td>\n",
       "      <td>2023-03-30 09:31</td>\n",
       "      <td>【1】   WiFi/ZigBee Smart Plug Socket EU 16A/20A...</td>\n",
       "      <td>ALJGL42YR5VZENV3F4Q4U8E5L51_G0X1FTV07JXT * 1</td>\n",
       "      <td>Podkum 80</td>\n",
       "      <td>...</td>\n",
       "      <td>null null</td>\n",
       "      <td>US $1.74</td>\n",
       "      <td>386.0</td>\n",
       "      <td>8164412246351370</td>\n",
       "      <td>1414</td>\n",
       "      <td>0.0</td>\n",
       "      <td>1019.0</td>\n",
       "      <td>23557.0</td>\n",
       "      <td>24576.0</td>\n",
       "      <td>3</td>\n",
       "    </tr>\n",
       "  </tbody>\n",
       "</table>\n",
       "<p>5 rows × 34 columns</p>\n",
       "</div>"
      ],
      "text/plain": [
       "                     下单时间            买家名称  \\\n",
       "25415 2023-02-01 23:56:00        Rafal Cz   \n",
       "31237 2023-02-25 10:29:00   Gregor Pavlic   \n",
       "35087 2023-03-13 10:23:00  Alberto Molina   \n",
       "36694 2023-03-20 05:57:00   Gregor Pavlic   \n",
       "37089 2023-03-21 09:31:00   Gregor Pavlic   \n",
       "\n",
       "                                                  买家选择物流      产品总金额  \\\n",
       "25415  Cainiao Super Economy Global\\nAliExpress Stand...  US $11.61   \n",
       "31237                       AliExpress Standard Shipping   US $5.84   \n",
       "35087                      Aliexpress Selection Standard  US $29.84   \n",
       "36694                         Aliexpress Selection Saver   US $6.09   \n",
       "37089                      Aliexpress Selection Standard   US $9.75   \n",
       "\n",
       "                     付款时间                发货时间              发货期限  \\\n",
       "25415 2023-02-01 23:56:00 2023-02-02 18:35:00  2023-02-12 23:56   \n",
       "31237 2023-02-25 10:29:00 2023-02-27 04:06:00  2023-03-07 10:29   \n",
       "35087 2023-03-13 10:24:00 2023-03-14 02:32:00  2023-03-22 10:24   \n",
       "36694 2023-03-20 05:57:00 2023-03-21 21:21:00  2023-03-29 05:57   \n",
       "37089 2023-03-21 09:31:00 2023-03-22 02:30:00  2023-03-30 09:31   \n",
       "\n",
       "                                                    商品信息  \\\n",
       "25415  【1】   Tuya Smart WiFi Door Sensor Smart Door O...   \n",
       "31237  【1】   Tuya WiFi Smart Door Sensor Door Open Cl...   \n",
       "35087  【1】   Tuya WiFi Smart Door Sensor Door Open Cl...   \n",
       "36694  【1】   ZigBee Door Window Sensor Detector Tuya ...   \n",
       "37089  【1】   WiFi/ZigBee Smart Plug Socket EU 16A/20A...   \n",
       "\n",
       "                                                    商品编码  \\\n",
       "25415  ALJK7YVAVMVZENR3F7A3G1R4410_U0F1TM89XBJ7 * 1;A...   \n",
       "31237       ALXFMHYZH0VZTNT3C7Q301T4S1U_X021WQ6S4G5B * 1   \n",
       "35087       AL39JWPF0IbZ0NG35793H13441B_X061SMT0Y49H * 1   \n",
       "36694       ALTS1GY8C1VZ7N73J770052781Y_O0Q1137TXBVI * 1   \n",
       "37089       ALJGL42YR5VZENV3F4Q4U8E5L51_G0X1FTV07JXT * 1   \n",
       "\n",
       "                           地址  ...   负责人（业务员）     预计增值税   联系电话  \\\n",
       "25415  Bystra Podhalanska 129  ...  null null  US $2.15   48.0   \n",
       "31237               Podkum 80  ...  null null  US $1.04  386.0   \n",
       "35087          Calle Batán 31  ...  null null  US $5.13   34.0   \n",
       "36694               Podkum 80  ...  null null  US $1.09  386.0   \n",
       "37089               Podkum 80  ...  null null  US $1.74  386.0   \n",
       "\n",
       "                    订单号     邮编 订单响应时长  订单发货时长   物流在途时间   订单交付时长 下单月份  \n",
       "25415  8161845366714070  34235    0.0  1119.0  27904.0  29023.0    2  \n",
       "31237  8163079144421370   1414    0.0  2497.0  29309.0  31806.0    2  \n",
       "35087  3021965878777330   2210    1.0   968.0  36163.0  37132.0    3  \n",
       "36694  8164410900441370   1414    0.0  2364.0  24783.0  27147.0    3  \n",
       "37089  8164412246351370   1414    0.0  1019.0  23557.0  24576.0    3  \n",
       "\n",
       "[5 rows x 34 columns]"
      ]
     },
     "execution_count": 24,
     "metadata": {},
     "output_type": "execute_result"
    }
   ],
   "source": [
    "data.head()"
   ]
  },
  {
   "cell_type": "code",
   "execution_count": 25,
   "id": "2b034a67",
   "metadata": {
    "execution": {
     "iopub.execute_input": "2024-04-12T07:14:16.036234Z",
     "iopub.status.busy": "2024-04-12T07:14:16.035894Z",
     "iopub.status.idle": "2024-04-12T07:14:16.042055Z",
     "shell.execute_reply": "2024-04-12T07:14:16.041239Z"
    },
    "papermill": {
     "duration": 0.019057,
     "end_time": "2024-04-12T07:14:16.044204",
     "exception": false,
     "start_time": "2024-04-12T07:14:16.025147",
     "status": "completed"
    },
    "tags": []
   },
   "outputs": [],
   "source": [
    "# 确保发货期限和确认收货时间都是datetime类型  \n",
    "data['发货期限'] = pd.to_datetime(data['发货期限'])  \n",
    "data['确认收货时间'] = pd.to_datetime(data['确认收货时间']) \n"
   ]
  },
  {
   "cell_type": "code",
   "execution_count": 26,
   "id": "7fe228de",
   "metadata": {
    "execution": {
     "iopub.execute_input": "2024-04-12T07:14:16.066632Z",
     "iopub.status.busy": "2024-04-12T07:14:16.066113Z",
     "iopub.status.idle": "2024-04-12T07:14:16.071602Z",
     "shell.execute_reply": "2024-04-12T07:14:16.070766Z"
    },
    "papermill": {
     "duration": 0.018628,
     "end_time": "2024-04-12T07:14:16.073756",
     "exception": false,
     "start_time": "2024-04-12T07:14:16.055128",
     "status": "completed"
    },
    "tags": []
   },
   "outputs": [],
   "source": [
    "# 计算订单是否延期交付，如果确认收货时间晚于发货期限则为True，否则为False  \n",
    "data['是否延期'] = (data['确认收货时间'] > data['发货期限']).astype(int)  "
   ]
  },
  {
   "cell_type": "code",
   "execution_count": 27,
   "id": "6608f868",
   "metadata": {
    "execution": {
     "iopub.execute_input": "2024-04-12T07:14:16.095451Z",
     "iopub.status.busy": "2024-04-12T07:14:16.094768Z",
     "iopub.status.idle": "2024-04-12T07:14:16.103001Z",
     "shell.execute_reply": "2024-04-12T07:14:16.101980Z"
    },
    "papermill": {
     "duration": 0.021076,
     "end_time": "2024-04-12T07:14:16.105076",
     "exception": false,
     "start_time": "2024-04-12T07:14:16.084000",
     "status": "completed"
    },
    "tags": []
   },
   "outputs": [
    {
     "name": "stdout",
     "output_type": "stream",
     "text": [
      "平均延期交付时长: 12223.55 分钟\n"
     ]
    }
   ],
   "source": [
    "# 计算延期交付的订单的平均延期时长  \n",
    "# 这里使用确认收货时间与发货期限之间的时间差作为延期时长  \n",
    "delayed_orders = data[data['是否延期'] == 1]  \n",
    "avg_delay_time = (delayed_orders['确认收货时间'] - delayed_orders['发货期限']).dt.total_seconds() / 60  \n",
    "avg_delay_time = avg_delay_time.mean()  \n",
    "  \n",
    "print(f\"平均延期交付时长: {avg_delay_time:.2f} 分钟\") "
   ]
  },
  {
   "cell_type": "code",
   "execution_count": 28,
   "id": "9dbd6b9e",
   "metadata": {
    "execution": {
     "iopub.execute_input": "2024-04-12T07:14:16.127022Z",
     "iopub.status.busy": "2024-04-12T07:14:16.126704Z",
     "iopub.status.idle": "2024-04-12T07:14:16.135851Z",
     "shell.execute_reply": "2024-04-12T07:14:16.134437Z"
    },
    "papermill": {
     "duration": 0.022048,
     "end_time": "2024-04-12T07:14:16.137398",
     "exception": false,
     "start_time": "2024-04-12T07:14:16.115350",
     "status": "completed"
    },
    "tags": []
   },
   "outputs": [
    {
     "name": "stdout",
     "output_type": "stream",
     "text": [
      "                    订单号     延期时长\n",
      "25415  8161845366714070  13183.0\n",
      "31237  8163079144421370  17406.0\n",
      "35087  3021965878777330  24171.0\n",
      "36694  8164410900441370  14187.0\n",
      "37089  8164412246351370  11616.0\n",
      "38822  8165007545142060  10993.0\n",
      "38889  3022234010213260  20689.0\n",
      "38954  3022309972067890  15597.0\n",
      "40786  3022526307511050   1781.0\n",
      "42676  8166100502621370    716.0\n",
      "43206  8166874558661370   4120.0\n"
     ]
    },
    {
     "name": "stderr",
     "output_type": "stream",
     "text": [
      "/tmp/ipykernel_18/4157038123.py:2: SettingWithCopyWarning: \n",
      "A value is trying to be set on a copy of a slice from a DataFrame.\n",
      "Try using .loc[row_indexer,col_indexer] = value instead\n",
      "\n",
      "See the caveats in the documentation: https://pandas.pydata.org/pandas-docs/stable/user_guide/indexing.html#returning-a-view-versus-a-copy\n",
      "  delayed_orders['延期时长'] = (delayed_orders['确认收货时间'] - delayed_orders['发货期限']).dt.total_seconds() / 60\n"
     ]
    }
   ],
   "source": [
    "# 如果你想查看每个延期订单的延期时长，可以这样做：  \n",
    "delayed_orders['延期时长'] = (delayed_orders['确认收货时间'] - delayed_orders['发货期限']).dt.total_seconds() / 60  \n",
    "print(delayed_orders[['订单号', '延期时长']])"
   ]
  },
  {
   "cell_type": "markdown",
   "id": "7649b9bb",
   "metadata": {
    "papermill": {
     "duration": 0.009721,
     "end_time": "2024-04-12T07:14:16.157226",
     "exception": false,
     "start_time": "2024-04-12T07:14:16.147505",
     "status": "completed"
    },
    "tags": []
   },
   "source": [
    "如果你想要进一步分析哪些月份或哪些商家的订单更容易延期交付，你可以按照之前提到的分组聚合的方法来进行："
   ]
  },
  {
   "cell_type": "code",
   "execution_count": 29,
   "id": "a88197ce",
   "metadata": {
    "execution": {
     "iopub.execute_input": "2024-04-12T07:14:16.229390Z",
     "iopub.status.busy": "2024-04-12T07:14:16.228415Z",
     "iopub.status.idle": "2024-04-12T07:14:16.234912Z",
     "shell.execute_reply": "2024-04-12T07:14:16.234043Z"
    },
    "papermill": {
     "duration": 0.019927,
     "end_time": "2024-04-12T07:14:16.237004",
     "exception": false,
     "start_time": "2024-04-12T07:14:16.217077",
     "status": "completed"
    },
    "tags": []
   },
   "outputs": [],
   "source": [
    "# 按月份分析延期交付的订单数  \n",
    "delayed_by_month = delayed_orders.groupby('下单月份').size().reset_index(name='延期订单数')  "
   ]
  },
  {
   "cell_type": "code",
   "execution_count": 30,
   "id": "bbced01e",
   "metadata": {
    "execution": {
     "iopub.execute_input": "2024-04-12T07:14:16.259216Z",
     "iopub.status.busy": "2024-04-12T07:14:16.258903Z",
     "iopub.status.idle": "2024-04-12T07:14:16.265734Z",
     "shell.execute_reply": "2024-04-12T07:14:16.264664Z"
    },
    "papermill": {
     "duration": 0.019931,
     "end_time": "2024-04-12T07:14:16.267587",
     "exception": false,
     "start_time": "2024-04-12T07:14:16.247656",
     "status": "completed"
    },
    "tags": []
   },
   "outputs": [],
   "source": [
    "# 按商家分析延期交付的订单数  \n",
    "delayed_by_merchant = delayed_orders.groupby('商品编码').size().reset_index(name='延期订单数') "
   ]
  },
  {
   "cell_type": "code",
   "execution_count": 31,
   "id": "e9ef0976",
   "metadata": {
    "execution": {
     "iopub.execute_input": "2024-04-12T07:14:16.289810Z",
     "iopub.status.busy": "2024-04-12T07:14:16.289499Z",
     "iopub.status.idle": "2024-04-12T07:14:16.297168Z",
     "shell.execute_reply": "2024-04-12T07:14:16.296124Z"
    },
    "papermill": {
     "duration": 0.020854,
     "end_time": "2024-04-12T07:14:16.298953",
     "exception": false,
     "start_time": "2024-04-12T07:14:16.278099",
     "status": "completed"
    },
    "tags": []
   },
   "outputs": [
    {
     "name": "stdout",
     "output_type": "stream",
     "text": [
      "   下单月份  延期订单数\n",
      "0     2      2\n",
      "1     3      6\n",
      "2     4      3\n",
      "                                                 商品编码  延期订单数\n",
      "0        AL2PNI8W0KbZINU3M4H4J8H5O5N_80T1JME0M2HN * 1      1\n",
      "1        AL39JWPF0IbZ0NG35793H13441B_X061SMT0Y49H * 1      1\n",
      "2        AL8VBO8FAPbZKN13K727R253W7Y_M0G10MB077XC * 1      1\n",
      "3        ALDTG8G0J8VZ6NY3P6T648I7T7A_F0A1QFNNO70B * 2      1\n",
      "4        ALJGL42YR5VZENV3F4Q4U8E5L51_G0X1FTV07JXT * 1      1\n",
      "5   ALJK7YVAVMVZENR3F7A3G1R4410_U0F1TM89XBJ7 * 1;A...      1\n",
      "6        ALL557ZS31bZFN7387I7R2J3I7G_3091XMG0M28Q * 1      1\n",
      "7        ALO14B0VGSbZYN4317P0U5W7M1N_B0W1LM9082DB * 1      1\n",
      "8        ALTLHQ8NSPVZMNG3K7C7W2F3Q7H_T0J1YHVBTBPC * 2      1\n",
      "9        ALTS1GY8C1VZ7N73J770052781Y_O0Q1137TXBVI * 1      1\n",
      "10       ALXFMHYZH0VZTNT3C7Q301T4S1U_X021WQ6S4G5B * 1      1\n"
     ]
    }
   ],
   "source": [
    "# 显示结果  \n",
    "print(delayed_by_month)  \n",
    "print(delayed_by_merchant)"
   ]
  },
  {
   "cell_type": "markdown",
   "id": "211b56ec",
   "metadata": {
    "papermill": {
     "duration": 0.009833,
     "end_time": "2024-04-12T07:14:16.319199",
     "exception": false,
     "start_time": "2024-04-12T07:14:16.309366",
     "status": "completed"
    },
    "tags": []
   },
   "source": [
    "销售环节分析\n"
   ]
  }
 ],
 "metadata": {
  "kaggle": {
   "accelerator": "none",
   "dataSources": [
    {
     "datasetId": 4767233,
     "sourceId": 8077679,
     "sourceType": "datasetVersion"
    }
   ],
   "dockerImageVersionId": 30684,
   "isGpuEnabled": false,
   "isInternetEnabled": true,
   "language": "python",
   "sourceType": "notebook"
  },
  "kernelspec": {
   "display_name": "Python 3",
   "language": "python",
   "name": "python3"
  },
  "language_info": {
   "codemirror_mode": {
    "name": "ipython",
    "version": 3
   },
   "file_extension": ".py",
   "mimetype": "text/x-python",
   "name": "python",
   "nbconvert_exporter": "python",
   "pygments_lexer": "ipython3",
   "version": "3.10.13"
  },
  "papermill": {
   "default_parameters": {},
   "duration": 49.193324,
   "end_time": "2024-04-12T07:14:16.848662",
   "environment_variables": {},
   "exception": null,
   "input_path": "__notebook__.ipynb",
   "output_path": "__notebook__.ipynb",
   "parameters": {},
   "start_time": "2024-04-12T07:13:27.655338",
   "version": "2.5.0"
  }
 },
 "nbformat": 4,
 "nbformat_minor": 5
}
